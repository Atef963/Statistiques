{
  "cells": [
    {
      "cell_type": "markdown",
      "metadata": {
        "id": "f7fc3999-a633-4873-aab2-19eaecab6822"
      },
      "source": [
        "<p style=\"text-align:center\">\n",
        "    <a href=\"https://skills.network\" target=\"_blank\">\n",
        "    <img src=\"https://cf-courses-data.s3.us.cloud-object-storage.appdomain.cloud/assets/logos/SN_web_lightmode.png\" width=\"200\" alt=\"Skills Network Logo\">\n",
        "    </a>\n",
        "</p>\n"
      ]
    },
    {
      "cell_type": "markdown",
      "metadata": {
        "id": "4ed9d3c7-6c4c-4d16-9931-c7d334951840"
      },
      "source": [
        "# **Hypothesis Testing**\n"
      ]
    },
    {
      "cell_type": "markdown",
      "metadata": {
        "id": "663a0161-d6cb-47fd-bf88-8e0bd5fce201"
      },
      "source": [
        "Estimated time needed: **30** minutes\n"
      ]
    },
    {
      "cell_type": "markdown",
      "metadata": {
        "id": "e984c2cf-d2bf-4168-8296-db068fcae196"
      },
      "source": [
        "The goal of hypothesis testing is to answer the question, “Given a sample and an apparent effect, what is the probability of seeing such an effect by chance?” The first step is to quantify the size of the apparent effect by choosing a test statistic (t-test, ANOVA, etc). The next step is to define a null hypothesis, which is a model of the system based on the assumption that the apparent effect is not real. Then compute the p-value, which is the probability of the null hypothesis being true, and finally interpret the result of the p-value, if the value is low, the effect is said to be statistically significant, which means that the null hypothesis may not be accurate.\n"
      ]
    },
    {
      "cell_type": "markdown",
      "metadata": {
        "id": "50609ce5-2bcf-4d61-9a20-f1e921bd4e8b"
      },
      "source": [
        "## Objectives\n"
      ]
    },
    {
      "cell_type": "markdown",
      "metadata": {
        "id": "ce8a9b2e-7892-4adf-a09a-935ae23d0bf0"
      },
      "source": [
        "* Import Libraries\n",
        "* Lab exercises\n",
        "    * Stating the hypothesis\n",
        "    * Levene's Test for equality\n",
        "    * Preparing your data for hypothesis testing\n",
        "* Quiz\n"
      ]
    },
    {
      "cell_type": "markdown",
      "metadata": {
        "id": "8723dea4-b09e-4131-99b7-43aa7e4e78b2"
      },
      "source": [
        "----\n"
      ]
    },
    {
      "cell_type": "markdown",
      "metadata": {
        "id": "e193e4d7-8eb9-4d98-907c-1f69bf828866"
      },
      "source": [
        "## Import Libraries\n"
      ]
    },
    {
      "cell_type": "markdown",
      "metadata": {
        "id": "cb42f003-c5c3-44ee-ae37-d3daf59111a8"
      },
      "source": [
        "All Libraries required for this lab are listed below. The libraries pre-installed on Skills Network Labs are commented. If you run this notebook in a different environment, e.g. your desktop, you may need to uncomment and install certain libraries.\n"
      ]
    },
    {
      "cell_type": "markdown",
      "metadata": {
        "id": "a55de0ff-1e48-4e0b-bc1b-b97bae1c7fc0"
      },
      "source": [
        "Import the libraries we need for the lab\n"
      ]
    },
    {
      "cell_type": "code",
      "metadata": {
        "id": "d926047c-fb9d-4a88-aba3-b073cc4de751"
      },
      "outputs": [],
      "source": [
        "import numpy as np\n",
        "import pandas as pd\n",
        "import seaborn as sns\n",
        "import matplotlib.pyplot as plt\n",
        "import scipy.stats"
      ],
      "execution_count": 1
    },
    {
      "cell_type": "markdown",
      "metadata": {
        "id": "50f9aa81-da49-4061-bd49-adc22d2b40b8"
      },
      "source": [
        "Read in the csv file from the URL using the request library\n"
      ]
    },
    {
      "cell_type": "code",
      "metadata": {
        "id": "cf3a145e-c466-41b9-be91-344274ba3a90"
      },
      "outputs": [],
      "source": [
        "ratings_url = 'https://cf-courses-data.s3.us.cloud-object-storage.appdomain.cloud/IBMDeveloperSkillsNetwork-ST0151EN-SkillsNetwork/labs/teachingratings.csv'\n",
        "ratings_df = pd.read_csv(ratings_url)"
      ],
      "execution_count": 2
    },
    {
      "cell_type": "code",
      "source": [
        "ratings_df.describe()"
      ],
      "metadata": {
        "colab": {
          "base_uri": "https://localhost:8080/",
          "height": 320
        },
        "id": "Vn9G9gCWp8C0",
        "outputId": "b8bb7053-a9f7-4e07-c437-7e96e6271b7d"
      },
      "execution_count": 4,
      "outputs": [
        {
          "output_type": "execute_result",
          "data": {
            "text/plain": [
              "              age        beauty        eval    students  allstudents  \\\n",
              "count  463.000000  4.630000e+02  463.000000  463.000000   463.000000   \n",
              "mean    48.365011  6.271140e-08    3.998272   36.624190    55.177106   \n",
              "std      9.802742  7.886477e-01    0.554866   45.018481    75.072800   \n",
              "min     29.000000 -1.450494e+00    2.100000    5.000000     8.000000   \n",
              "25%     42.000000 -6.562689e-01    3.600000   15.000000    19.000000   \n",
              "50%     48.000000 -6.801430e-02    4.000000   23.000000    29.000000   \n",
              "75%     57.000000  5.456024e-01    4.400000   40.000000    60.000000   \n",
              "max     73.000000  1.970023e+00    5.000000  380.000000   581.000000   \n",
              "\n",
              "             prof  PrimaryLast      vismin      female  single_credit  \\\n",
              "count  463.000000   463.000000  463.000000  463.000000     463.000000   \n",
              "mean    45.434125     0.203024    0.138229    0.421166       0.058315   \n",
              "std     27.508902     0.402685    0.345513    0.494280       0.234592   \n",
              "min      1.000000     0.000000    0.000000    0.000000       0.000000   \n",
              "25%     20.000000     0.000000    0.000000    0.000000       0.000000   \n",
              "50%     44.000000     0.000000    0.000000    0.000000       0.000000   \n",
              "75%     70.500000     0.000000    0.000000    1.000000       0.000000   \n",
              "max     94.000000     1.000000    1.000000    1.000000       1.000000   \n",
              "\n",
              "       upper_division  English_speaker  tenured_prof  \n",
              "count      463.000000       463.000000    463.000000  \n",
              "mean         0.660907         0.939525      0.779698  \n",
              "std          0.473913         0.238623      0.414899  \n",
              "min          0.000000         0.000000      0.000000  \n",
              "25%          0.000000         1.000000      1.000000  \n",
              "50%          1.000000         1.000000      1.000000  \n",
              "75%          1.000000         1.000000      1.000000  \n",
              "max          1.000000         1.000000      1.000000  "
            ],
            "text/html": [
              "\n",
              "  <div id=\"df-bc57b580-b198-4470-9254-9420a44b018e\" class=\"colab-df-container\">\n",
              "    <div>\n",
              "<style scoped>\n",
              "    .dataframe tbody tr th:only-of-type {\n",
              "        vertical-align: middle;\n",
              "    }\n",
              "\n",
              "    .dataframe tbody tr th {\n",
              "        vertical-align: top;\n",
              "    }\n",
              "\n",
              "    .dataframe thead th {\n",
              "        text-align: right;\n",
              "    }\n",
              "</style>\n",
              "<table border=\"1\" class=\"dataframe\">\n",
              "  <thead>\n",
              "    <tr style=\"text-align: right;\">\n",
              "      <th></th>\n",
              "      <th>age</th>\n",
              "      <th>beauty</th>\n",
              "      <th>eval</th>\n",
              "      <th>students</th>\n",
              "      <th>allstudents</th>\n",
              "      <th>prof</th>\n",
              "      <th>PrimaryLast</th>\n",
              "      <th>vismin</th>\n",
              "      <th>female</th>\n",
              "      <th>single_credit</th>\n",
              "      <th>upper_division</th>\n",
              "      <th>English_speaker</th>\n",
              "      <th>tenured_prof</th>\n",
              "    </tr>\n",
              "  </thead>\n",
              "  <tbody>\n",
              "    <tr>\n",
              "      <th>count</th>\n",
              "      <td>463.000000</td>\n",
              "      <td>4.630000e+02</td>\n",
              "      <td>463.000000</td>\n",
              "      <td>463.000000</td>\n",
              "      <td>463.000000</td>\n",
              "      <td>463.000000</td>\n",
              "      <td>463.000000</td>\n",
              "      <td>463.000000</td>\n",
              "      <td>463.000000</td>\n",
              "      <td>463.000000</td>\n",
              "      <td>463.000000</td>\n",
              "      <td>463.000000</td>\n",
              "      <td>463.000000</td>\n",
              "    </tr>\n",
              "    <tr>\n",
              "      <th>mean</th>\n",
              "      <td>48.365011</td>\n",
              "      <td>6.271140e-08</td>\n",
              "      <td>3.998272</td>\n",
              "      <td>36.624190</td>\n",
              "      <td>55.177106</td>\n",
              "      <td>45.434125</td>\n",
              "      <td>0.203024</td>\n",
              "      <td>0.138229</td>\n",
              "      <td>0.421166</td>\n",
              "      <td>0.058315</td>\n",
              "      <td>0.660907</td>\n",
              "      <td>0.939525</td>\n",
              "      <td>0.779698</td>\n",
              "    </tr>\n",
              "    <tr>\n",
              "      <th>std</th>\n",
              "      <td>9.802742</td>\n",
              "      <td>7.886477e-01</td>\n",
              "      <td>0.554866</td>\n",
              "      <td>45.018481</td>\n",
              "      <td>75.072800</td>\n",
              "      <td>27.508902</td>\n",
              "      <td>0.402685</td>\n",
              "      <td>0.345513</td>\n",
              "      <td>0.494280</td>\n",
              "      <td>0.234592</td>\n",
              "      <td>0.473913</td>\n",
              "      <td>0.238623</td>\n",
              "      <td>0.414899</td>\n",
              "    </tr>\n",
              "    <tr>\n",
              "      <th>min</th>\n",
              "      <td>29.000000</td>\n",
              "      <td>-1.450494e+00</td>\n",
              "      <td>2.100000</td>\n",
              "      <td>5.000000</td>\n",
              "      <td>8.000000</td>\n",
              "      <td>1.000000</td>\n",
              "      <td>0.000000</td>\n",
              "      <td>0.000000</td>\n",
              "      <td>0.000000</td>\n",
              "      <td>0.000000</td>\n",
              "      <td>0.000000</td>\n",
              "      <td>0.000000</td>\n",
              "      <td>0.000000</td>\n",
              "    </tr>\n",
              "    <tr>\n",
              "      <th>25%</th>\n",
              "      <td>42.000000</td>\n",
              "      <td>-6.562689e-01</td>\n",
              "      <td>3.600000</td>\n",
              "      <td>15.000000</td>\n",
              "      <td>19.000000</td>\n",
              "      <td>20.000000</td>\n",
              "      <td>0.000000</td>\n",
              "      <td>0.000000</td>\n",
              "      <td>0.000000</td>\n",
              "      <td>0.000000</td>\n",
              "      <td>0.000000</td>\n",
              "      <td>1.000000</td>\n",
              "      <td>1.000000</td>\n",
              "    </tr>\n",
              "    <tr>\n",
              "      <th>50%</th>\n",
              "      <td>48.000000</td>\n",
              "      <td>-6.801430e-02</td>\n",
              "      <td>4.000000</td>\n",
              "      <td>23.000000</td>\n",
              "      <td>29.000000</td>\n",
              "      <td>44.000000</td>\n",
              "      <td>0.000000</td>\n",
              "      <td>0.000000</td>\n",
              "      <td>0.000000</td>\n",
              "      <td>0.000000</td>\n",
              "      <td>1.000000</td>\n",
              "      <td>1.000000</td>\n",
              "      <td>1.000000</td>\n",
              "    </tr>\n",
              "    <tr>\n",
              "      <th>75%</th>\n",
              "      <td>57.000000</td>\n",
              "      <td>5.456024e-01</td>\n",
              "      <td>4.400000</td>\n",
              "      <td>40.000000</td>\n",
              "      <td>60.000000</td>\n",
              "      <td>70.500000</td>\n",
              "      <td>0.000000</td>\n",
              "      <td>0.000000</td>\n",
              "      <td>1.000000</td>\n",
              "      <td>0.000000</td>\n",
              "      <td>1.000000</td>\n",
              "      <td>1.000000</td>\n",
              "      <td>1.000000</td>\n",
              "    </tr>\n",
              "    <tr>\n",
              "      <th>max</th>\n",
              "      <td>73.000000</td>\n",
              "      <td>1.970023e+00</td>\n",
              "      <td>5.000000</td>\n",
              "      <td>380.000000</td>\n",
              "      <td>581.000000</td>\n",
              "      <td>94.000000</td>\n",
              "      <td>1.000000</td>\n",
              "      <td>1.000000</td>\n",
              "      <td>1.000000</td>\n",
              "      <td>1.000000</td>\n",
              "      <td>1.000000</td>\n",
              "      <td>1.000000</td>\n",
              "      <td>1.000000</td>\n",
              "    </tr>\n",
              "  </tbody>\n",
              "</table>\n",
              "</div>\n",
              "    <div class=\"colab-df-buttons\">\n",
              "\n",
              "  <div class=\"colab-df-container\">\n",
              "    <button class=\"colab-df-convert\" onclick=\"convertToInteractive('df-bc57b580-b198-4470-9254-9420a44b018e')\"\n",
              "            title=\"Convert this dataframe to an interactive table.\"\n",
              "            style=\"display:none;\">\n",
              "\n",
              "  <svg xmlns=\"http://www.w3.org/2000/svg\" height=\"24px\" viewBox=\"0 -960 960 960\">\n",
              "    <path d=\"M120-120v-720h720v720H120Zm60-500h600v-160H180v160Zm220 220h160v-160H400v160Zm0 220h160v-160H400v160ZM180-400h160v-160H180v160Zm440 0h160v-160H620v160ZM180-180h160v-160H180v160Zm440 0h160v-160H620v160Z\"/>\n",
              "  </svg>\n",
              "    </button>\n",
              "\n",
              "  <style>\n",
              "    .colab-df-container {\n",
              "      display:flex;\n",
              "      gap: 12px;\n",
              "    }\n",
              "\n",
              "    .colab-df-convert {\n",
              "      background-color: #E8F0FE;\n",
              "      border: none;\n",
              "      border-radius: 50%;\n",
              "      cursor: pointer;\n",
              "      display: none;\n",
              "      fill: #1967D2;\n",
              "      height: 32px;\n",
              "      padding: 0 0 0 0;\n",
              "      width: 32px;\n",
              "    }\n",
              "\n",
              "    .colab-df-convert:hover {\n",
              "      background-color: #E2EBFA;\n",
              "      box-shadow: 0px 1px 2px rgba(60, 64, 67, 0.3), 0px 1px 3px 1px rgba(60, 64, 67, 0.15);\n",
              "      fill: #174EA6;\n",
              "    }\n",
              "\n",
              "    .colab-df-buttons div {\n",
              "      margin-bottom: 4px;\n",
              "    }\n",
              "\n",
              "    [theme=dark] .colab-df-convert {\n",
              "      background-color: #3B4455;\n",
              "      fill: #D2E3FC;\n",
              "    }\n",
              "\n",
              "    [theme=dark] .colab-df-convert:hover {\n",
              "      background-color: #434B5C;\n",
              "      box-shadow: 0px 1px 3px 1px rgba(0, 0, 0, 0.15);\n",
              "      filter: drop-shadow(0px 1px 2px rgba(0, 0, 0, 0.3));\n",
              "      fill: #FFFFFF;\n",
              "    }\n",
              "  </style>\n",
              "\n",
              "    <script>\n",
              "      const buttonEl =\n",
              "        document.querySelector('#df-bc57b580-b198-4470-9254-9420a44b018e button.colab-df-convert');\n",
              "      buttonEl.style.display =\n",
              "        google.colab.kernel.accessAllowed ? 'block' : 'none';\n",
              "\n",
              "      async function convertToInteractive(key) {\n",
              "        const element = document.querySelector('#df-bc57b580-b198-4470-9254-9420a44b018e');\n",
              "        const dataTable =\n",
              "          await google.colab.kernel.invokeFunction('convertToInteractive',\n",
              "                                                    [key], {});\n",
              "        if (!dataTable) return;\n",
              "\n",
              "        const docLinkHtml = 'Like what you see? Visit the ' +\n",
              "          '<a target=\"_blank\" href=https://colab.research.google.com/notebooks/data_table.ipynb>data table notebook</a>'\n",
              "          + ' to learn more about interactive tables.';\n",
              "        element.innerHTML = '';\n",
              "        dataTable['output_type'] = 'display_data';\n",
              "        await google.colab.output.renderOutput(dataTable, element);\n",
              "        const docLink = document.createElement('div');\n",
              "        docLink.innerHTML = docLinkHtml;\n",
              "        element.appendChild(docLink);\n",
              "      }\n",
              "    </script>\n",
              "  </div>\n",
              "\n",
              "\n",
              "<div id=\"df-ff93fcaf-c079-47c1-b5e7-91d5c4cbb9f8\">\n",
              "  <button class=\"colab-df-quickchart\" onclick=\"quickchart('df-ff93fcaf-c079-47c1-b5e7-91d5c4cbb9f8')\"\n",
              "            title=\"Suggest charts\"\n",
              "            style=\"display:none;\">\n",
              "\n",
              "<svg xmlns=\"http://www.w3.org/2000/svg\" height=\"24px\"viewBox=\"0 0 24 24\"\n",
              "     width=\"24px\">\n",
              "    <g>\n",
              "        <path d=\"M19 3H5c-1.1 0-2 .9-2 2v14c0 1.1.9 2 2 2h14c1.1 0 2-.9 2-2V5c0-1.1-.9-2-2-2zM9 17H7v-7h2v7zm4 0h-2V7h2v10zm4 0h-2v-4h2v4z\"/>\n",
              "    </g>\n",
              "</svg>\n",
              "  </button>\n",
              "\n",
              "<style>\n",
              "  .colab-df-quickchart {\n",
              "      --bg-color: #E8F0FE;\n",
              "      --fill-color: #1967D2;\n",
              "      --hover-bg-color: #E2EBFA;\n",
              "      --hover-fill-color: #174EA6;\n",
              "      --disabled-fill-color: #AAA;\n",
              "      --disabled-bg-color: #DDD;\n",
              "  }\n",
              "\n",
              "  [theme=dark] .colab-df-quickchart {\n",
              "      --bg-color: #3B4455;\n",
              "      --fill-color: #D2E3FC;\n",
              "      --hover-bg-color: #434B5C;\n",
              "      --hover-fill-color: #FFFFFF;\n",
              "      --disabled-bg-color: #3B4455;\n",
              "      --disabled-fill-color: #666;\n",
              "  }\n",
              "\n",
              "  .colab-df-quickchart {\n",
              "    background-color: var(--bg-color);\n",
              "    border: none;\n",
              "    border-radius: 50%;\n",
              "    cursor: pointer;\n",
              "    display: none;\n",
              "    fill: var(--fill-color);\n",
              "    height: 32px;\n",
              "    padding: 0;\n",
              "    width: 32px;\n",
              "  }\n",
              "\n",
              "  .colab-df-quickchart:hover {\n",
              "    background-color: var(--hover-bg-color);\n",
              "    box-shadow: 0 1px 2px rgba(60, 64, 67, 0.3), 0 1px 3px 1px rgba(60, 64, 67, 0.15);\n",
              "    fill: var(--button-hover-fill-color);\n",
              "  }\n",
              "\n",
              "  .colab-df-quickchart-complete:disabled,\n",
              "  .colab-df-quickchart-complete:disabled:hover {\n",
              "    background-color: var(--disabled-bg-color);\n",
              "    fill: var(--disabled-fill-color);\n",
              "    box-shadow: none;\n",
              "  }\n",
              "\n",
              "  .colab-df-spinner {\n",
              "    border: 2px solid var(--fill-color);\n",
              "    border-color: transparent;\n",
              "    border-bottom-color: var(--fill-color);\n",
              "    animation:\n",
              "      spin 1s steps(1) infinite;\n",
              "  }\n",
              "\n",
              "  @keyframes spin {\n",
              "    0% {\n",
              "      border-color: transparent;\n",
              "      border-bottom-color: var(--fill-color);\n",
              "      border-left-color: var(--fill-color);\n",
              "    }\n",
              "    20% {\n",
              "      border-color: transparent;\n",
              "      border-left-color: var(--fill-color);\n",
              "      border-top-color: var(--fill-color);\n",
              "    }\n",
              "    30% {\n",
              "      border-color: transparent;\n",
              "      border-left-color: var(--fill-color);\n",
              "      border-top-color: var(--fill-color);\n",
              "      border-right-color: var(--fill-color);\n",
              "    }\n",
              "    40% {\n",
              "      border-color: transparent;\n",
              "      border-right-color: var(--fill-color);\n",
              "      border-top-color: var(--fill-color);\n",
              "    }\n",
              "    60% {\n",
              "      border-color: transparent;\n",
              "      border-right-color: var(--fill-color);\n",
              "    }\n",
              "    80% {\n",
              "      border-color: transparent;\n",
              "      border-right-color: var(--fill-color);\n",
              "      border-bottom-color: var(--fill-color);\n",
              "    }\n",
              "    90% {\n",
              "      border-color: transparent;\n",
              "      border-bottom-color: var(--fill-color);\n",
              "    }\n",
              "  }\n",
              "</style>\n",
              "\n",
              "  <script>\n",
              "    async function quickchart(key) {\n",
              "      const quickchartButtonEl =\n",
              "        document.querySelector('#' + key + ' button');\n",
              "      quickchartButtonEl.disabled = true;  // To prevent multiple clicks.\n",
              "      quickchartButtonEl.classList.add('colab-df-spinner');\n",
              "      try {\n",
              "        const charts = await google.colab.kernel.invokeFunction(\n",
              "            'suggestCharts', [key], {});\n",
              "      } catch (error) {\n",
              "        console.error('Error during call to suggestCharts:', error);\n",
              "      }\n",
              "      quickchartButtonEl.classList.remove('colab-df-spinner');\n",
              "      quickchartButtonEl.classList.add('colab-df-quickchart-complete');\n",
              "    }\n",
              "    (() => {\n",
              "      let quickchartButtonEl =\n",
              "        document.querySelector('#df-ff93fcaf-c079-47c1-b5e7-91d5c4cbb9f8 button');\n",
              "      quickchartButtonEl.style.display =\n",
              "        google.colab.kernel.accessAllowed ? 'block' : 'none';\n",
              "    })();\n",
              "  </script>\n",
              "</div>\n",
              "\n",
              "    </div>\n",
              "  </div>\n"
            ],
            "application/vnd.google.colaboratory.intrinsic+json": {
              "type": "dataframe",
              "summary": "{\n  \"name\": \"ratings_df\",\n  \"rows\": 8,\n  \"fields\": [\n    {\n      \"column\": \"age\",\n      \"properties\": {\n        \"dtype\": \"number\",\n        \"std\": 149.3540721537304,\n        \"min\": 9.802742037864821,\n        \"max\": 463.0,\n        \"num_unique_values\": 8,\n        \"samples\": [\n          48.365010799136066,\n          48.0,\n          463.0\n        ],\n        \"semantic_type\": \"\",\n        \"description\": \"\"\n      }\n    },\n    {\n      \"column\": \"beauty\",\n      \"properties\": {\n        \"dtype\": \"number\",\n        \"std\": 163.64129598652025,\n        \"min\": -1.45049405097961,\n        \"max\": 463.0,\n        \"num_unique_values\": 8,\n        \"samples\": [\n          6.271139975345787e-08,\n          -0.0680143013596535,\n          463.0\n        ],\n        \"semantic_type\": \"\",\n        \"description\": \"\"\n      }\n    },\n    {\n      \"column\": \"eval\",\n      \"properties\": {\n        \"dtype\": \"number\",\n        \"std\": 162.50675349142196,\n        \"min\": 0.5548655704870059,\n        \"max\": 463.0,\n        \"num_unique_values\": 8,\n        \"samples\": [\n          3.9982721362721585,\n          4.0,\n          463.0\n        ],\n        \"semantic_type\": \"\",\n        \"description\": \"\"\n      }\n    },\n    {\n      \"column\": \"students\",\n      \"properties\": {\n        \"dtype\": \"number\",\n        \"std\": 184.23510826296527,\n        \"min\": 5.0,\n        \"max\": 463.0,\n        \"num_unique_values\": 8,\n        \"samples\": [\n          36.62419006479482,\n          23.0,\n          463.0\n        ],\n        \"semantic_type\": \"\",\n        \"description\": \"\"\n      }\n    },\n    {\n      \"column\": \"allstudents\",\n      \"properties\": {\n        \"dtype\": \"number\",\n        \"std\": 225.95300898902093,\n        \"min\": 8.0,\n        \"max\": 581.0,\n        \"num_unique_values\": 8,\n        \"samples\": [\n          55.177105831533474,\n          29.0,\n          463.0\n        ],\n        \"semantic_type\": \"\",\n        \"description\": \"\"\n      }\n    },\n    {\n      \"column\": \"prof\",\n      \"properties\": {\n        \"dtype\": \"number\",\n        \"std\": 151.23084100861982,\n        \"min\": 1.0,\n        \"max\": 463.0,\n        \"num_unique_values\": 8,\n        \"samples\": [\n          45.4341252699784,\n          44.0,\n          463.0\n        ],\n        \"semantic_type\": \"\",\n        \"description\": \"\"\n      }\n    },\n    {\n      \"column\": \"PrimaryLast\",\n      \"properties\": {\n        \"dtype\": \"number\",\n        \"std\": 163.61448385017087,\n        \"min\": 0.0,\n        \"max\": 463.0,\n        \"num_unique_values\": 5,\n        \"samples\": [\n          0.20302375809935205,\n          1.0,\n          0.40268516146137057\n        ],\n        \"semantic_type\": \"\",\n        \"description\": \"\"\n      }\n    },\n    {\n      \"column\": \"vismin\",\n      \"properties\": {\n        \"dtype\": \"number\",\n        \"std\": 163.62063924958952,\n        \"min\": 0.0,\n        \"max\": 463.0,\n        \"num_unique_values\": 5,\n        \"samples\": [\n          0.13822894168466524,\n          1.0,\n          0.3455134448119906\n        ],\n        \"semantic_type\": \"\",\n        \"description\": \"\"\n      }\n    },\n    {\n      \"column\": \"female\",\n      \"properties\": {\n        \"dtype\": \"number\",\n        \"std\": 163.54849489700786,\n        \"min\": 0.0,\n        \"max\": 463.0,\n        \"num_unique_values\": 5,\n        \"samples\": [\n          0.42116630669546434,\n          1.0,\n          0.49428020646053344\n        ],\n        \"semantic_type\": \"\",\n        \"description\": \"\"\n      }\n    },\n    {\n      \"column\": \"single_credit\",\n      \"properties\": {\n        \"dtype\": \"number\",\n        \"std\": 163.63027594073466,\n        \"min\": 0.0,\n        \"max\": 463.0,\n        \"num_unique_values\": 5,\n        \"samples\": [\n          0.058315334773218146,\n          1.0,\n          0.2345922406994113\n        ],\n        \"semantic_type\": \"\",\n        \"description\": \"\"\n      }\n    },\n    {\n      \"column\": \"upper_division\",\n      \"properties\": {\n        \"dtype\": \"number\",\n        \"std\": 163.48691245782945,\n        \"min\": 0.0,\n        \"max\": 463.0,\n        \"num_unique_values\": 5,\n        \"samples\": [\n          0.6609071274298056,\n          1.0,\n          0.47391347367795444\n        ],\n        \"semantic_type\": \"\",\n        \"description\": \"\"\n      }\n    },\n    {\n      \"column\": \"English_speaker\",\n      \"properties\": {\n        \"dtype\": \"number\",\n        \"std\": 163.43416865721733,\n        \"min\": 0.0,\n        \"max\": 463.0,\n        \"num_unique_values\": 5,\n        \"samples\": [\n          0.9395248380129589,\n          1.0,\n          0.2386229227746406\n        ],\n        \"semantic_type\": \"\",\n        \"description\": \"\"\n      }\n    },\n    {\n      \"column\": \"tenured_prof\",\n      \"properties\": {\n        \"dtype\": \"number\",\n        \"std\": 163.43325747907141,\n        \"min\": 0.0,\n        \"max\": 463.0,\n        \"num_unique_values\": 5,\n        \"samples\": [\n          0.7796976241900648,\n          1.0,\n          0.4148988237053613\n        ],\n        \"semantic_type\": \"\",\n        \"description\": \"\"\n      }\n    }\n  ]\n}"
            }
          },
          "metadata": {},
          "execution_count": 4
        }
      ]
    },
    {
      "cell_type": "markdown",
      "metadata": {
        "id": "b8b9e732-55b7-4722-a0e5-f2421c3b04b9"
      },
      "source": [
        "## Lab Exercises\n"
      ]
    },
    {
      "cell_type": "markdown",
      "metadata": {
        "id": "49a7b378-25bd-46fc-a63b-a5ecae5a0418"
      },
      "source": [
        "### T-Test: Using the teachers' rating data set, does gender affect teaching evaluation rates?\n"
      ]
    },
    {
      "cell_type": "markdown",
      "metadata": {
        "id": "75c3e066-6d16-4ff4-bec9-80019f88d4d1"
      },
      "source": [
        "We will be using the t-test for independent samples. For the independent t-test, the following assumptions must be met.\n",
        "* One independent, categorical variable with two levels or group\n",
        "* One dependent continuous variable\n",
        "* Independence of the observations. Each subject should belong to only one group. There is no relationship between the observations in each group.\n",
        "* The dependent variable must follow a normal distribution\n",
        "* Assumption of homogeneity of variance\n"
      ]
    },
    {
      "cell_type": "markdown",
      "metadata": {
        "id": "f66bce0a-b1be-4ce7-86cb-77ec2de46aa9"
      },
      "source": [
        "State the hypothesis\n",
        "* $H_0: µ_1 = µ_2$ (\"there is no difference in evaluation scores between male and females\")\n",
        "* $H_1: µ_1 ≠ µ_2$ (\"there is a difference in evaluation scores between male and females\")\n"
      ]
    },
    {
      "cell_type": "markdown",
      "metadata": {
        "id": "fc18a4af-8c91-493e-a816-dc780d97356f"
      },
      "source": [
        "We can plot the dependent variable with a historgram\n"
      ]
    },
    {
      "cell_type": "code",
      "metadata": {
        "colab": {
          "base_uri": "https://localhost:8080/",
          "height": 667
        },
        "id": "af10f534-b0ab-4dce-b720-50c942275533",
        "outputId": "903e89a4-7384-4fe8-cd53-8c9a91068212"
      },
      "outputs": [
        {
          "output_type": "stream",
          "name": "stderr",
          "text": [
            "<ipython-input-5-15132377d28d>:1: UserWarning: \n",
            "\n",
            "`distplot` is a deprecated function and will be removed in seaborn v0.14.0.\n",
            "\n",
            "Please adapt your code to use either `displot` (a figure-level function with\n",
            "similar flexibility) or `histplot` (an axes-level function for histograms).\n",
            "\n",
            "For a guide to updating your code to use the new functions, please see\n",
            "https://gist.github.com/mwaskom/de44147ed2974457ad6372750bbe5751\n",
            "\n",
            "  ax = sns.distplot(ratings_df['eval'],\n"
          ]
        },
        {
          "output_type": "execute_result",
          "data": {
            "text/plain": [
              "[Text(0.5, 0, 'Normal Distribution'), Text(0, 0.5, 'Frequency')]"
            ]
          },
          "metadata": {},
          "execution_count": 5
        },
        {
          "output_type": "display_data",
          "data": {
            "text/plain": [
              "<Figure size 640x480 with 1 Axes>"
            ],
            "image/png": "[encoded data removed]"
          },
          "metadata": {}
        }
      ],
      "source": [
        "ax = sns.distplot(ratings_df['eval'],\n",
        "                  bins=20,\n",
        "                  kde=True,\n",
        "                  color='red',\n",
        "                  hist_kws={\"linewidth\": 15,'alpha':1})\n",
        "ax.set(xlabel='Normal Distribution', ylabel='Frequency')\n",
        "## we can assume it is normal"
      ],
      "execution_count": 5
    },
    {
      "cell_type": "markdown",
      "metadata": {
        "id": "5563be34-eb06-4b01-b0a8-d87446998e9a"
      },
      "source": [
        "We can use the Levene's Test in Python to check test significance\n"
      ]
    },
    {
      "cell_type": "code",
      "metadata": {
        "colab": {
          "base_uri": "https://localhost:8080/"
        },
        "id": "2e306472-a78a-419b-a34d-3ccba0b6f8dd",
        "outputId": "44d8fdc3-09f8-4374-c028-8cb65fd3bdda"
      },
      "outputs": [
        {
          "output_type": "execute_result",
          "data": {
            "text/plain": [
              "LeveneResult(statistic=0.19032922435292574, pvalue=0.6628469836244741)"
            ]
          },
          "metadata": {},
          "execution_count": 6
        }
      ],
      "source": [
        "scipy.stats.levene(ratings_df[ratings_df['gender'] == 'female']['eval'],\n",
        "                   ratings_df[ratings_df['gender'] == 'male']['eval'], center='mean')\n",
        "\n",
        "# since the p-value is greater than 0.05 we can assume equality of variance"
      ],
      "execution_count": 6
    },
    {
      "cell_type": "markdown",
      "metadata": {
        "id": "438c9165-da24-4a0a-b576-00a31f2fd87a"
      },
      "source": [
        "Use the <code>ttest_ind</code> from the <code>scipy_stats</code> library\n"
      ]
    },
    {
      "cell_type": "code",
      "metadata": {
        "colab": {
          "base_uri": "https://localhost:8080/"
        },
        "id": "31391684-8948-4b59-b275-f1ae435a7b71",
        "outputId": "5869a8eb-5397-4b31-f6b9-5ede0789a8dd"
      },
      "outputs": [
        {
          "output_type": "execute_result",
          "data": {
            "text/plain": [
              "TtestResult(statistic=-3.249937943510772, pvalue=0.0012387609449522217, df=461.0)"
            ]
          },
          "metadata": {},
          "execution_count": 7
        }
      ],
      "source": [
        "scipy.stats.ttest_ind(ratings_df[ratings_df['gender'] == 'female']['eval'],\n",
        "                   ratings_df[ratings_df['gender'] == 'male']['eval'], equal_var = True)"
      ],
      "execution_count": 7
    },
    {
      "cell_type": "markdown",
      "metadata": {
        "id": "38a87c5d-94fc-40d9-b0d4-56a2eb9e135d"
      },
      "source": [
        "**Conclusion:** Since the p-value is less than alpha value 0.05, we reject the null hypothesis as there is enough proof that there is a statistical difference in teaching evaluations based on gender\n"
      ]
    },
    {
      "cell_type": "markdown",
      "metadata": {
        "id": "c5c0e12d-8244-4b8a-bdc9-eb94907e9003"
      },
      "source": [
        "### ANOVA: Using the teachers' rating data set, does beauty  score for instructors  differ by age?\n"
      ]
    },
    {
      "cell_type": "markdown",
      "metadata": {
        "id": "da5ff8f1-a1a9-433e-849c-3ecc2b2921e2"
      },
      "source": [
        "First, we group the data into cateries as the one-way ANOVA can't work with continuous variable - using the example from the video, we will create a new column for this newly assigned group our categories will be teachers that are:\n",
        "* 40 years and younger\n",
        "* between 40 and 57 years\n",
        "* 57 years and older\n"
      ]
    },
    {
      "cell_type": "code",
      "metadata": {
        "id": "a699a83c-9fc4-4bdf-9194-948e45df6413"
      },
      "outputs": [],
      "source": [
        "ratings_df.loc[(ratings_df['age'] <= 40), 'age_group'] = '40 years and younger'\n",
        "ratings_df.loc[(ratings_df['age'] > 40)&(ratings_df['age'] < 57), 'age_group'] = 'between 40 and 57 years'\n",
        "ratings_df.loc[(ratings_df['age'] >= 57), 'age_group'] = '57 years and older'"
      ],
      "execution_count": 8
    },
    {
      "cell_type": "markdown",
      "metadata": {
        "id": "9fd76eb3-5b27-45e6-b9b1-e3743b9bee4a"
      },
      "source": [
        "State the hypothesis\n",
        "* $H_0: µ_1 = µ_2 = µ_3$ (the three population means are equal)\n",
        "* $H_1:$ At least one of the means differ\n"
      ]
    },
    {
      "cell_type": "markdown",
      "metadata": {
        "id": "e8cf7bc8-9ac3-4130-b784-9a14ee405e3d"
      },
      "source": [
        "Test for equality of variance\n"
      ]
    },
    {
      "cell_type": "code",
      "metadata": {
        "colab": {
          "base_uri": "https://localhost:8080/"
        },
        "id": "c27336e2-1424-48ba-80e2-8917ebf25122",
        "outputId": "476e3158-9b84-4cfe-f003-6e02c980febd"
      },
      "outputs": [
        {
          "output_type": "execute_result",
          "data": {
            "text/plain": [
              "LeveneResult(statistic=8.60005668392584, pvalue=0.000215366180993476)"
            ]
          },
          "metadata": {},
          "execution_count": 9
        }
      ],
      "source": [
        "scipy.stats.levene(ratings_df[ratings_df['age_group'] == '40 years and younger']['beauty'],\n",
        "                   ratings_df[ratings_df['age_group'] == 'between 40 and 57 years']['beauty'],\n",
        "                   ratings_df[ratings_df['age_group'] == '57 years and older']['beauty'],\n",
        "                   center='mean')\n",
        "# since the p-value is less than 0.05, the variance are not equal, for the purposes of this exercise, we will move along"
      ],
      "execution_count": 9
    },
    {
      "cell_type": "markdown",
      "metadata": {
        "id": "23938589-4a1d-4f49-8f73-48a6dd8da147"
      },
      "source": [
        "First, separate the three samples (one for each job category) into a variable each.\n"
      ]
    },
    {
      "cell_type": "code",
      "metadata": {
        "id": "e78ef587-1096-4a0f-94df-f081c42339e1"
      },
      "outputs": [],
      "source": [
        "forty_lower = ratings_df[ratings_df['age_group'] == '40 years and younger']['beauty']\n",
        "forty_fiftyseven = ratings_df[ratings_df['age_group'] == 'between 40 and 57 years']['beauty']\n",
        "fiftyseven_older = ratings_df[ratings_df['age_group'] == '57 years and older']['beauty']"
      ],
      "execution_count": 10
    },
    {
      "cell_type": "markdown",
      "metadata": {
        "id": "0e53f6d0-44ff-4c55-9e93-cb07cc4cdefd"
      },
      "source": [
        "Now, run a one-way ANOVA.\n"
      ]
    },
    {
      "cell_type": "code",
      "metadata": {
        "colab": {
          "base_uri": "https://localhost:8080/"
        },
        "id": "161e0cc5-a3d0-4d57-b3b1-5459ae3ab6c2",
        "outputId": "fe565fa0-9a29-4bb1-a5a4-f10a381a64e0"
      },
      "outputs": [
        {
          "output_type": "stream",
          "name": "stdout",
          "text": [
            "F_Statistic: 17.597558611010122, P-Value: 4.3225489816137975e-08\n"
          ]
        }
      ],
      "source": [
        "f_statistic, p_value = scipy.stats.f_oneway(forty_lower, forty_fiftyseven, fiftyseven_older)\n",
        "print(\"F_Statistic: {0}, P-Value: {1}\".format(f_statistic,p_value))"
      ],
      "execution_count": 11
    },
    {
      "cell_type": "markdown",
      "metadata": {
        "id": "4cebcf87-ee6c-4746-8595-34a5645a5f82"
      },
      "source": [
        "**Conclusion:** Since the p-value is less than 0.05, we will reject the null hypothesis as there is significant evidence that at least one of the means differ.\n"
      ]
    },
    {
      "cell_type": "markdown",
      "metadata": {
        "id": "5f19eb15-3afb-4ccc-ac98-6a7e4a78540b"
      },
      "source": [
        "### ANOVA: Using the teachers' rating data set, does teaching  evaluation  score for instructors  differ  by age?\n"
      ]
    },
    {
      "cell_type": "markdown",
      "metadata": {
        "id": "c7e55914-4b42-4edd-901c-8560f76d9fea"
      },
      "source": [
        "Test for equality of variance\n"
      ]
    },
    {
      "cell_type": "code",
      "metadata": {
        "colab": {
          "base_uri": "https://localhost:8080/"
        },
        "id": "8e911e2a-fe48-46cf-89ea-916bb1abfd5d",
        "outputId": "454b883a-132f-4808-9609-6c8bd0a39522"
      },
      "outputs": [
        {
          "output_type": "execute_result",
          "data": {
            "text/plain": [
              "LeveneResult(statistic=3.820237661494229, pvalue=0.02262141852021939)"
            ]
          },
          "metadata": {},
          "execution_count": 12
        }
      ],
      "source": [
        "scipy.stats.levene(ratings_df[ratings_df['age_group'] == '40 years and younger']['eval'],\n",
        "                   ratings_df[ratings_df['age_group'] == 'between 40 and 57 years']['eval'],\n",
        "                   ratings_df[ratings_df['age_group'] == '57 years and older']['eval'],\n",
        "                   center='mean')\n"
      ],
      "execution_count": 12
    },
    {
      "cell_type": "code",
      "metadata": {
        "id": "1fb8c0ba-2c19-4ee6-90cd-36deef93f2c0"
      },
      "outputs": [],
      "source": [
        "forty_lower_eval = ratings_df[ratings_df['age_group'] == '40 years and younger']['eval']\n",
        "forty_fiftyseven_eval = ratings_df[ratings_df['age_group'] == 'between 40 and 57 years']['eval']\n",
        "fiftyseven_older_eval = ratings_df[ratings_df['age_group'] == '57 years and older']['eval']"
      ],
      "execution_count": 13
    },
    {
      "cell_type": "code",
      "metadata": {
        "colab": {
          "base_uri": "https://localhost:8080/"
        },
        "id": "a2ba9a3d-5c00-407a-a8b1-71c277173920",
        "outputId": "2f12279a-c15c-4d33-bcd2-4368b6ce5650"
      },
      "outputs": [
        {
          "output_type": "stream",
          "name": "stdout",
          "text": [
            "F_Statistic: 1.2226327996572206, P-Value: 0.29540894225417536\n"
          ]
        }
      ],
      "source": [
        "f_statistic, p_value = scipy.stats.f_oneway(forty_lower_eval, forty_fiftyseven_eval, fiftyseven_older_eval)\n",
        "print(\"F_Statistic: {0}, P-Value: {1}\".format(f_statistic,p_value))"
      ],
      "execution_count": 14
    },
    {
      "cell_type": "markdown",
      "metadata": {
        "id": "fca412b4-7a56-40a9-90a4-fceb298d7017"
      },
      "source": [
        "**Conclusion:** Since the p-value is greater than 0.05, we will fail to reject the null hypothesis as there is no significant evidence that at least one of the means differ.\n"
      ]
    },
    {
      "cell_type": "markdown",
      "metadata": {
        "id": "e8929c0f-a05a-4106-b870-94e469cab5bd"
      },
      "source": [
        "### Chi-square: Using the teachers' rating data set, is there an association between tenure and gender?\n"
      ]
    },
    {
      "cell_type": "markdown",
      "metadata": {
        "id": "22524d6b-0959-4219-9748-6b33364b32ce"
      },
      "source": [
        "State the hypothesis:\n",
        "* $H_0:$ The proportion of teachers who are tenured is independent of gender\n",
        "* $H_1:$ The proportion of teachers who are tenured is associated with gender\n"
      ]
    },
    {
      "cell_type": "markdown",
      "metadata": {
        "id": "4274f4d2-0916-4379-b248-88bbd5c803d3"
      },
      "source": [
        "Create a Cross-tab table\n"
      ]
    },
    {
      "cell_type": "code",
      "metadata": {
        "colab": {
          "base_uri": "https://localhost:8080/",
          "height": 143
        },
        "id": "bed9510d-ff37-4897-9f9f-97068b46d162",
        "outputId": "63c1a551-0f65-42fd-a2b4-8fb4c88c7918"
      },
      "outputs": [
        {
          "output_type": "execute_result",
          "data": {
            "text/plain": [
              "gender  female  male\n",
              "tenure              \n",
              "no          50    52\n",
              "yes        145   216"
            ],
            "text/html": [
              "\n",
              "  <div id=\"df-ee437940-017d-41e4-8eca-33cf538f0511\" class=\"colab-df-container\">\n",
              "    <div>\n",
              "<style scoped>\n",
              "    .dataframe tbody tr th:only-of-type {\n",
              "        vertical-align: middle;\n",
              "    }\n",
              "\n",
              "    .dataframe tbody tr th {\n",
              "        vertical-align: top;\n",
              "    }\n",
              "\n",
              "    .dataframe thead th {\n",
              "        text-align: right;\n",
              "    }\n",
              "</style>\n",
              "<table border=\"1\" class=\"dataframe\">\n",
              "  <thead>\n",
              "    <tr style=\"text-align: right;\">\n",
              "      <th>gender</th>\n",
              "      <th>female</th>\n",
              "      <th>male</th>\n",
              "    </tr>\n",
              "    <tr>\n",
              "      <th>tenure</th>\n",
              "      <th></th>\n",
              "      <th></th>\n",
              "    </tr>\n",
              "  </thead>\n",
              "  <tbody>\n",
              "    <tr>\n",
              "      <th>no</th>\n",
              "      <td>50</td>\n",
              "      <td>52</td>\n",
              "    </tr>\n",
              "    <tr>\n",
              "      <th>yes</th>\n",
              "      <td>145</td>\n",
              "      <td>216</td>\n",
              "    </tr>\n",
              "  </tbody>\n",
              "</table>\n",
              "</div>\n",
              "    <div class=\"colab-df-buttons\">\n",
              "\n",
              "  <div class=\"colab-df-container\">\n",
              "    <button class=\"colab-df-convert\" onclick=\"convertToInteractive('df-ee437940-017d-41e4-8eca-33cf538f0511')\"\n",
              "            title=\"Convert this dataframe to an interactive table.\"\n",
              "            style=\"display:none;\">\n",
              "\n",
              "  <svg xmlns=\"http://www.w3.org/2000/svg\" height=\"24px\" viewBox=\"0 -960 960 960\">\n",
              "    <path d=\"M120-120v-720h720v720H120Zm60-500h600v-160H180v160Zm220 220h160v-160H400v160Zm0 220h160v-160H400v160ZM180-400h160v-160H180v160Zm440 0h160v-160H620v160ZM180-180h160v-160H180v160Zm440 0h160v-160H620v160Z\"/>\n",
              "  </svg>\n",
              "    </button>\n",
              "\n",
              "  <style>\n",
              "    .colab-df-container {\n",
              "      display:flex;\n",
              "      gap: 12px;\n",
              "    }\n",
              "\n",
              "    .colab-df-convert {\n",
              "      background-color: #E8F0FE;\n",
              "      border: none;\n",
              "      border-radius: 50%;\n",
              "      cursor: pointer;\n",
              "      display: none;\n",
              "      fill: #1967D2;\n",
              "      height: 32px;\n",
              "      padding: 0 0 0 0;\n",
              "      width: 32px;\n",
              "    }\n",
              "\n",
              "    .colab-df-convert:hover {\n",
              "      background-color: #E2EBFA;\n",
              "      box-shadow: 0px 1px 2px rgba(60, 64, 67, 0.3), 0px 1px 3px 1px rgba(60, 64, 67, 0.15);\n",
              "      fill: #174EA6;\n",
              "    }\n",
              "\n",
              "    .colab-df-buttons div {\n",
              "      margin-bottom: 4px;\n",
              "    }\n",
              "\n",
              "    [theme=dark] .colab-df-convert {\n",
              "      background-color: #3B4455;\n",
              "      fill: #D2E3FC;\n",
              "    }\n",
              "\n",
              "    [theme=dark] .colab-df-convert:hover {\n",
              "      background-color: #434B5C;\n",
              "      box-shadow: 0px 1px 3px 1px rgba(0, 0, 0, 0.15);\n",
              "      filter: drop-shadow(0px 1px 2px rgba(0, 0, 0, 0.3));\n",
              "      fill: #FFFFFF;\n",
              "    }\n",
              "  </style>\n",
              "\n",
              "    <script>\n",
              "      const buttonEl =\n",
              "        document.querySelector('#df-ee437940-017d-41e4-8eca-33cf538f0511 button.colab-df-convert');\n",
              "      buttonEl.style.display =\n",
              "        google.colab.kernel.accessAllowed ? 'block' : 'none';\n",
              "\n",
              "      async function convertToInteractive(key) {\n",
              "        const element = document.querySelector('#df-ee437940-017d-41e4-8eca-33cf538f0511');\n",
              "        const dataTable =\n",
              "          await google.colab.kernel.invokeFunction('convertToInteractive',\n",
              "                                                    [key], {});\n",
              "        if (!dataTable) return;\n",
              "\n",
              "        const docLinkHtml = 'Like what you see? Visit the ' +\n",
              "          '<a target=\"_blank\" href=https://colab.research.google.com/notebooks/data_table.ipynb>data table notebook</a>'\n",
              "          + ' to learn more about interactive tables.';\n",
              "        element.innerHTML = '';\n",
              "        dataTable['output_type'] = 'display_data';\n",
              "        await google.colab.output.renderOutput(dataTable, element);\n",
              "        const docLink = document.createElement('div');\n",
              "        docLink.innerHTML = docLinkHtml;\n",
              "        element.appendChild(docLink);\n",
              "      }\n",
              "    </script>\n",
              "  </div>\n",
              "\n",
              "\n",
              "<div id=\"df-ed206c42-1b9c-4d2a-ae9a-663d270d2167\">\n",
              "  <button class=\"colab-df-quickchart\" onclick=\"quickchart('df-ed206c42-1b9c-4d2a-ae9a-663d270d2167')\"\n",
              "            title=\"Suggest charts\"\n",
              "            style=\"display:none;\">\n",
              "\n",
              "<svg xmlns=\"http://www.w3.org/2000/svg\" height=\"24px\"viewBox=\"0 0 24 24\"\n",
              "     width=\"24px\">\n",
              "    <g>\n",
              "        <path d=\"M19 3H5c-1.1 0-2 .9-2 2v14c0 1.1.9 2 2 2h14c1.1 0 2-.9 2-2V5c0-1.1-.9-2-2-2zM9 17H7v-7h2v7zm4 0h-2V7h2v10zm4 0h-2v-4h2v4z\"/>\n",
              "    </g>\n",
              "</svg>\n",
              "  </button>\n",
              "\n",
              "<style>\n",
              "  .colab-df-quickchart {\n",
              "      --bg-color: #E8F0FE;\n",
              "      --fill-color: #1967D2;\n",
              "      --hover-bg-color: #E2EBFA;\n",
              "      --hover-fill-color: #174EA6;\n",
              "      --disabled-fill-color: #AAA;\n",
              "      --disabled-bg-color: #DDD;\n",
              "  }\n",
              "\n",
              "  [theme=dark] .colab-df-quickchart {\n",
              "      --bg-color: #3B4455;\n",
              "      --fill-color: #D2E3FC;\n",
              "      --hover-bg-color: #434B5C;\n",
              "      --hover-fill-color: #FFFFFF;\n",
              "      --disabled-bg-color: #3B4455;\n",
              "      --disabled-fill-color: #666;\n",
              "  }\n",
              "\n",
              "  .colab-df-quickchart {\n",
              "    background-color: var(--bg-color);\n",
              "    border: none;\n",
              "    border-radius: 50%;\n",
              "    cursor: pointer;\n",
              "    display: none;\n",
              "    fill: var(--fill-color);\n",
              "    height: 32px;\n",
              "    padding: 0;\n",
              "    width: 32px;\n",
              "  }\n",
              "\n",
              "  .colab-df-quickchart:hover {\n",
              "    background-color: var(--hover-bg-color);\n",
              "    box-shadow: 0 1px 2px rgba(60, 64, 67, 0.3), 0 1px 3px 1px rgba(60, 64, 67, 0.15);\n",
              "    fill: var(--button-hover-fill-color);\n",
              "  }\n",
              "\n",
              "  .colab-df-quickchart-complete:disabled,\n",
              "  .colab-df-quickchart-complete:disabled:hover {\n",
              "    background-color: var(--disabled-bg-color);\n",
              "    fill: var(--disabled-fill-color);\n",
              "    box-shadow: none;\n",
              "  }\n",
              "\n",
              "  .colab-df-spinner {\n",
              "    border: 2px solid var(--fill-color);\n",
              "    border-color: transparent;\n",
              "    border-bottom-color: var(--fill-color);\n",
              "    animation:\n",
              "      spin 1s steps(1) infinite;\n",
              "  }\n",
              "\n",
              "  @keyframes spin {\n",
              "    0% {\n",
              "      border-color: transparent;\n",
              "      border-bottom-color: var(--fill-color);\n",
              "      border-left-color: var(--fill-color);\n",
              "    }\n",
              "    20% {\n",
              "      border-color: transparent;\n",
              "      border-left-color: var(--fill-color);\n",
              "      border-top-color: var(--fill-color);\n",
              "    }\n",
              "    30% {\n",
              "      border-color: transparent;\n",
              "      border-left-color: var(--fill-color);\n",
              "      border-top-color: var(--fill-color);\n",
              "      border-right-color: var(--fill-color);\n",
              "    }\n",
              "    40% {\n",
              "      border-color: transparent;\n",
              "      border-right-color: var(--fill-color);\n",
              "      border-top-color: var(--fill-color);\n",
              "    }\n",
              "    60% {\n",
              "      border-color: transparent;\n",
              "      border-right-color: var(--fill-color);\n",
              "    }\n",
              "    80% {\n",
              "      border-color: transparent;\n",
              "      border-right-color: var(--fill-color);\n",
              "      border-bottom-color: var(--fill-color);\n",
              "    }\n",
              "    90% {\n",
              "      border-color: transparent;\n",
              "      border-bottom-color: var(--fill-color);\n",
              "    }\n",
              "  }\n",
              "</style>\n",
              "\n",
              "  <script>\n",
              "    async function quickchart(key) {\n",
              "      const quickchartButtonEl =\n",
              "        document.querySelector('#' + key + ' button');\n",
              "      quickchartButtonEl.disabled = true;  // To prevent multiple clicks.\n",
              "      quickchartButtonEl.classList.add('colab-df-spinner');\n",
              "      try {\n",
              "        const charts = await google.colab.kernel.invokeFunction(\n",
              "            'suggestCharts', [key], {});\n",
              "      } catch (error) {\n",
              "        console.error('Error during call to suggestCharts:', error);\n",
              "      }\n",
              "      quickchartButtonEl.classList.remove('colab-df-spinner');\n",
              "      quickchartButtonEl.classList.add('colab-df-quickchart-complete');\n",
              "    }\n",
              "    (() => {\n",
              "      let quickchartButtonEl =\n",
              "        document.querySelector('#df-ed206c42-1b9c-4d2a-ae9a-663d270d2167 button');\n",
              "      quickchartButtonEl.style.display =\n",
              "        google.colab.kernel.accessAllowed ? 'block' : 'none';\n",
              "    })();\n",
              "  </script>\n",
              "</div>\n",
              "\n",
              "  <div id=\"id_24dd676d-897b-4e02-b1a2-84eecb2b6c31\">\n",
              "    <style>\n",
              "      .colab-df-generate {\n",
              "        background-color: #E8F0FE;\n",
              "        border: none;\n",
              "        border-radius: 50%;\n",
              "        cursor: pointer;\n",
              "        display: none;\n",
              "        fill: #1967D2;\n",
              "        height: 32px;\n",
              "        padding: 0 0 0 0;\n",
              "        width: 32px;\n",
              "      }\n",
              "\n",
              "      .colab-df-generate:hover {\n",
              "        background-color: #E2EBFA;\n",
              "        box-shadow: 0px 1px 2px rgba(60, 64, 67, 0.3), 0px 1px 3px 1px rgba(60, 64, 67, 0.15);\n",
              "        fill: #174EA6;\n",
              "      }\n",
              "\n",
              "      [theme=dark] .colab-df-generate {\n",
              "        background-color: #3B4455;\n",
              "        fill: #D2E3FC;\n",
              "      }\n",
              "\n",
              "      [theme=dark] .colab-df-generate:hover {\n",
              "        background-color: #434B5C;\n",
              "        box-shadow: 0px 1px 3px 1px rgba(0, 0, 0, 0.15);\n",
              "        filter: drop-shadow(0px 1px 2px rgba(0, 0, 0, 0.3));\n",
              "        fill: #FFFFFF;\n",
              "      }\n",
              "    </style>\n",
              "    <button class=\"colab-df-generate\" onclick=\"generateWithVariable('cont_table')\"\n",
              "            title=\"Generate code using this dataframe.\"\n",
              "            style=\"display:none;\">\n",
              "\n",
              "  <svg xmlns=\"http://www.w3.org/2000/svg\" height=\"24px\"viewBox=\"0 0 24 24\"\n",
              "       width=\"24px\">\n",
              "    <path d=\"M7,19H8.4L18.45,9,17,7.55,7,17.6ZM5,21V16.75L18.45,3.32a2,2,0,0,1,2.83,0l1.4,1.43a1.91,1.91,0,0,1,.58,1.4,1.91,1.91,0,0,1-.58,1.4L9.25,21ZM18.45,9,17,7.55Zm-12,3A5.31,5.31,0,0,0,4.9,8.1,5.31,5.31,0,0,0,1,6.5,5.31,5.31,0,0,0,4.9,4.9,5.31,5.31,0,0,0,6.5,1,5.31,5.31,0,0,0,8.1,4.9,5.31,5.31,0,0,0,12,6.5,5.46,5.46,0,0,0,6.5,12Z\"/>\n",
              "  </svg>\n",
              "    </button>\n",
              "    <script>\n",
              "      (() => {\n",
              "      const buttonEl =\n",
              "        document.querySelector('#id_24dd676d-897b-4e02-b1a2-84eecb2b6c31 button.colab-df-generate');\n",
              "      buttonEl.style.display =\n",
              "        google.colab.kernel.accessAllowed ? 'block' : 'none';\n",
              "\n",
              "      buttonEl.onclick = () => {\n",
              "        google.colab.notebook.generateWithVariable('cont_table');\n",
              "      }\n",
              "      })();\n",
              "    </script>\n",
              "  </div>\n",
              "\n",
              "    </div>\n",
              "  </div>\n"
            ],
            "application/vnd.google.colaboratory.intrinsic+json": {
              "type": "dataframe",
              "variable_name": "cont_table",
              "summary": "{\n  \"name\": \"cont_table\",\n  \"rows\": 2,\n  \"fields\": [\n    {\n      \"column\": \"tenure\",\n      \"properties\": {\n        \"dtype\": \"string\",\n        \"num_unique_values\": 2,\n        \"samples\": [\n          \"yes\",\n          \"no\"\n        ],\n        \"semantic_type\": \"\",\n        \"description\": \"\"\n      }\n    },\n    {\n      \"column\": \"female\",\n      \"properties\": {\n        \"dtype\": \"number\",\n        \"std\": 67,\n        \"min\": 50,\n        \"max\": 145,\n        \"num_unique_values\": 2,\n        \"samples\": [\n          145,\n          50\n        ],\n        \"semantic_type\": \"\",\n        \"description\": \"\"\n      }\n    },\n    {\n      \"column\": \"male\",\n      \"properties\": {\n        \"dtype\": \"number\",\n        \"std\": 115,\n        \"min\": 52,\n        \"max\": 216,\n        \"num_unique_values\": 2,\n        \"samples\": [\n          216,\n          52\n        ],\n        \"semantic_type\": \"\",\n        \"description\": \"\"\n      }\n    }\n  ]\n}"
            }
          },
          "metadata": {},
          "execution_count": 15
        }
      ],
      "source": [
        "cont_table  = pd.crosstab(ratings_df['tenure'], ratings_df['gender'])\n",
        "cont_table"
      ],
      "execution_count": 15
    },
    {
      "cell_type": "markdown",
      "metadata": {
        "id": "352ef3d8-bc61-4f9e-94f0-7d2f32135290"
      },
      "source": [
        "Use the <code>scipy.stats</code> library and set correction equals False as that will be the same answer when done by hand, it returns: 𝜒2 value, p-value, degree of freedom, and expected values.\n"
      ]
    },
    {
      "cell_type": "code",
      "metadata": {
        "colab": {
          "base_uri": "https://localhost:8080/"
        },
        "id": "d38375e7-4d81-4429-85a4-2dbb15d45194",
        "outputId": "553971ce-ecf4-449d-9448-5024e1485bd6"
      },
      "outputs": [
        {
          "output_type": "execute_result",
          "data": {
            "text/plain": [
              "Chi2ContingencyResult(statistic=2.20678166999886, pvalue=0.1374050603563787, dof=1, expected_freq=array([[ 42.95896328,  59.04103672],\n",
              "       [152.04103672, 208.95896328]]))"
            ]
          },
          "metadata": {},
          "execution_count": 16
        }
      ],
      "source": [
        "scipy.stats.chi2_contingency(cont_table, correction = True)"
      ],
      "execution_count": 16
    },
    {
      "cell_type": "markdown",
      "metadata": {
        "id": "829d41b2-bb06-4ad8-b240-508518903e6a"
      },
      "source": [
        "**Conclusion:** Since the p-value is greater than 0.05, we fail to reject the null hypothesis. As there is no sufficient evidence that teachers are tenured as a result of gender.\n"
      ]
    },
    {
      "cell_type": "markdown",
      "metadata": {
        "id": "bb3e1663-fb1a-42ff-8495-9512aafcd75d"
      },
      "source": [
        "### Correlation: Using the teachers rating dataset, Is teaching  evaluation  score correlated with  beauty score?\n"
      ]
    },
    {
      "cell_type": "markdown",
      "metadata": {
        "id": "ba8c42d7-c5fa-4818-a22a-b494e018e15a"
      },
      "source": [
        "State the hypothesis:\n",
        "* $H_0:$ Teaching evaluation score is not correlated with beauty score\n",
        "* $H_1:$ Teaching evaluation score is correlated with beauty score\n"
      ]
    },
    {
      "cell_type": "markdown",
      "metadata": {
        "id": "eb01a8fc-a1fd-4386-8de0-63356f024e62"
      },
      "source": [
        "Since they are both continuous variables we can use a pearson correlation test and draw a scatter plot\n"
      ]
    },
    {
      "cell_type": "code",
      "metadata": {
        "colab": {
          "base_uri": "https://localhost:8080/",
          "height": 449
        },
        "id": "2a4cefa4-3620-417d-9fb2-cab98241619f",
        "outputId": "b7a0f5ab-3ba1-45c1-bd14-a0ec06f80713"
      },
      "outputs": [
        {
          "output_type": "display_data",
          "data": {
            "text/plain": [
              "<Figure size 640x480 with 1 Axes>"
            ],
            "image/png": "[encoded data removed]"
          },
          "metadata": {}
        }
      ],
      "source": [
        "ax = sns.scatterplot(x=\"beauty\", y=\"eval\", data=ratings_df)"
      ],
      "execution_count": 17
    },
    {
      "cell_type": "code",
      "metadata": {
        "colab": {
          "base_uri": "https://localhost:8080/"
        },
        "id": "c3bd52c3-55c7-4672-84a3-947dbfc6491b",
        "outputId": "49089ec3-808f-4b89-d54d-6cef3588265a"
      },
      "outputs": [
        {
          "output_type": "execute_result",
          "data": {
            "text/plain": [
              "PearsonRResult(statistic=0.18903909084045206, pvalue=4.247115419813754e-05)"
            ]
          },
          "metadata": {},
          "execution_count": 18
        }
      ],
      "source": [
        "scipy.stats.pearsonr(ratings_df['beauty'], ratings_df['eval'])"
      ],
      "execution_count": 18
    },
    {
      "cell_type": "markdown",
      "metadata": {
        "id": "05724198-9cce-4527-95e6-82d7ecb22093"
      },
      "source": [
        "**Conclusion:** Since the p-value  (Sig. (2-tailed)  < 0.05, we reject  the Null hypothesis and conclude that there  exists a relationship between  beauty and teaching evaluation score.\n"
      ]
    },
    {
      "cell_type": "markdown",
      "metadata": {
        "id": "9e9c44a9-90e0-4e22-accd-507e0a67196d"
      },
      "source": [
        "## Practice Questions\n"
      ]
    },
    {
      "cell_type": "markdown",
      "metadata": {
        "id": "69e440d1-6d1c-4daa-a361-dd1e50768077"
      },
      "source": [
        "### Question 1: Using the teachers rating data set, does tenure affect teaching evaluation scores?\n",
        "* Use α = 0.05\n"
      ]
    },
    {
      "cell_type": "code",
      "metadata": {
        "colab": {
          "base_uri": "https://localhost:8080/"
        },
        "id": "ea61e075-adca-4e92-b7aa-c4d30250228c",
        "outputId": "67da6885-8f18-46ee-832d-f667ab84faa1"
      },
      "outputs": [
        {
          "output_type": "stream",
          "name": "stdout",
          "text": [
            "T-statistic: nan\n",
            "P-value: nan\n",
            "Fail to reject the null hypothesis. There is no statistically significant difference in evaluation scores between tenured and non-tenured teachers.\n"
          ]
        }
      ],
      "source": [
        "# prompt: À l’aide de l’ensemble de données d’évaluation des enseignants, la titularisation affecte-t-elle les notes d’évaluation de l’enseignement ?\n",
        "# Utilisation α = 0,05\n",
        "\n",
        "import scipy.stats\n",
        "\n",
        "# State the hypothesis:\n",
        "# H0: There is no difference in evaluation scores between tenured and non-tenured teachers.\n",
        "# H1: There is a difference in evaluation scores between tenured and non-tenured teachers.\n",
        "\n",
        "# Perform an independent samples t-test\n",
        "tenured_scores = ratings_df[ratings_df['tenure'] == 1]['eval']\n",
        "non_tenured_scores = ratings_df[ratings_df['tenure'] == 0]['eval']\n",
        "t_statistic, p_value = scipy.stats.ttest_ind(tenured_scores, non_tenured_scores)\n",
        "\n",
        "print(f\"T-statistic: {t_statistic}\")\n",
        "print(f\"P-value: {p_value}\")\n",
        "\n",
        "alpha = 0.05\n",
        "if p_value < alpha:\n",
        "  print(\"Reject the null hypothesis. There is a statistically significant difference in evaluation scores between tenured and non-tenured teachers.\")\n",
        "else:\n",
        "  print(\"Fail to reject the null hypothesis. There is no statistically significant difference in evaluation scores between tenured and non-tenured teachers.\")"
      ],
      "execution_count": 20
    },
    {
      "cell_type": "markdown",
      "metadata": {
        "id": "7c782042-c6d0-4aab-84d9-60a1f1d7d5a9"
      },
      "source": [
        "Double-click **here** for the solution.\n",
        "\n",
        "<!-- The answer is below:\n",
        "scipy.stats.ttest_ind(ratings_df[ratings_df['tenure'] == 'yes']['eval'],\n",
        "                   ratings_df[ratings_df['tenure'] == 'no']['eval'], equal_var = True)\n",
        "The p-value is less than 0.05 that means that - we will reject the null hypothesis as there evidence that being tenured affects teaching evaluation scores\n",
        "-->\n"
      ]
    },
    {
      "cell_type": "markdown",
      "metadata": {
        "id": "af284627-b1a2-43d5-ad2e-c254b744c1d0"
      },
      "source": [
        "### Question 2: Using the teachers rating data set, is there an association between age and tenure?\n",
        "* Discretize the age into three groups 40 years and youngers, between 40 and 57 years, 57 years and older (This has already been done for you above.)\n",
        "* What is your conclusion at α = 0.01 and α = 0.05?\n"
      ]
    },
    {
      "cell_type": "code",
      "metadata": {
        "colab": {
          "base_uri": "https://localhost:8080/"
        },
        "id": "949cf3ab-fac9-4c66-a20d-01ef537dcde2",
        "outputId": "8898bb32-ac2f-4d35-94ae-5acb8a9fa05b"
      },
      "outputs": [
        {
          "output_type": "stream",
          "name": "stdout",
          "text": [
            "tenure                   no  yes\n",
            "age_group                       \n",
            "40 years and younger     15   98\n",
            "57 years and older       25   97\n",
            "between 40 and 57 years  62  166\n",
            "Chi-square statistic: 8.749576239010711\n",
            "P-value: 0.012590809706820843\n",
            "Degrees of freedom: 2\n",
            "\n",
            "Conclusion at α = 0.01:\n",
            "Fail to reject the null hypothesis. There is no statistically significant association between age group and tenure.\n",
            "\n",
            "Conclusion at α = 0.05:\n",
            "Reject the null hypothesis. There is a statistically significant association between age group and tenure.\n"
          ]
        }
      ],
      "source": [
        "# prompt: Using the teachers rating data set, is there an association between age and tenure?\n",
        "# Discretize the age into three groups 40 years and youngers, between 40 and 57 years, 57 years and older (This has already been done for you above.)\n",
        "# What is your conclusion at α = 0.01 and α = 0.05?\n",
        "\n",
        "# Create the contingency table\n",
        "cont_table = pd.crosstab(ratings_df['age_group'], ratings_df['tenure'])\n",
        "print(cont_table)\n",
        "\n",
        "# Perform the Chi-square test\n",
        "chi2, p_value, dof, expected = scipy.stats.chi2_contingency(cont_table)\n",
        "\n",
        "print(f\"Chi-square statistic: {chi2}\")\n",
        "print(f\"P-value: {p_value}\")\n",
        "print(f\"Degrees of freedom: {dof}\")\n",
        "\n",
        "alpha_01 = 0.01\n",
        "alpha_05 = 0.05\n",
        "\n",
        "print(f\"\\nConclusion at α = {alpha_01}:\")\n",
        "if p_value < alpha_01:\n",
        "    print(\"Reject the null hypothesis. There is a statistically significant association between age group and tenure.\")\n",
        "else:\n",
        "    print(\"Fail to reject the null hypothesis. There is no statistically significant association between age group and tenure.\")\n",
        "\n",
        "print(f\"\\nConclusion at α = {alpha_05}:\")\n",
        "if p_value < alpha_05:\n",
        "    print(\"Reject the null hypothesis. There is a statistically significant association between age group and tenure.\")\n",
        "else:\n",
        "    print(\"Fail to reject the null hypothesis. There is no statistically significant association between age group and tenure.\")"
      ],
      "execution_count": 21
    },
    {
      "cell_type": "markdown",
      "metadata": {
        "id": "87b5dc4d-be83-4f6c-ae66-8deb67ae4c8b"
      },
      "source": [
        "Double-click **here** for a hint.\n",
        "\n",
        "<!-- The hint is below:\n",
        "## state your hypothesis\n",
        "Null Hypothesis: There is no association between age and tenure\n",
        "Alternative Hypothesis: There is an association between age and tenure\n",
        "\n",
        "## don't forget to create a cross tab of the data\n",
        "cont_table  = pd.crosstab(ratings_df['tenure'], ratings_df['age_group'])\n",
        "-->\n"
      ]
    },
    {
      "cell_type": "markdown",
      "metadata": {
        "id": "a0ff16c7-89b6-4159-903b-13a635b2f142"
      },
      "source": [
        "Double-click **here** for the solution.\n",
        "\n",
        "<!-- The answer is below:\n",
        "## use the chi-square function\n",
        "scipy.stats.chi2_contingency(cont_table, correction = True)\n",
        "At the α = 0.01, p-value is greater, we fail to reject null hypothesis as there is no evidence of an association between age and tenure\n",
        "At the α = 0.05, p-value is less, we reject null hypoothesis as there is evidence of an association between age and tenure\n",
        "-->\n"
      ]
    },
    {
      "cell_type": "markdown",
      "metadata": {
        "id": "e7f22437-0a50-41b0-b885-cb06d6824646"
      },
      "source": [
        "### Question 3: Test for equality of variance for beauty scores between tenured and non-tenured instructors\n",
        "* Use α = 0.05\n"
      ]
    },
    {
      "cell_type": "code",
      "metadata": {
        "colab": {
          "base_uri": "https://localhost:8080/"
        },
        "id": "a26f2d45-7335-4ba9-aefe-0b2025608cd1",
        "outputId": "29f9be99-1f53-4ace-b292-81857cfa91d2"
      },
      "outputs": [
        {
          "output_type": "stream",
          "name": "stdout",
          "text": [
            "Levene's test statistic: nan\n",
            "P-value: nan\n",
            "Fail to reject the null hypothesis. There is no evidence of unequal variances in beauty scores between tenured and non-tenured instructors.\n"
          ]
        },
        {
          "output_type": "stream",
          "name": "stderr",
          "text": [
            "/usr/local/lib/python3.11/dist-packages/numpy/core/fromnumeric.py:3504: RuntimeWarning: Mean of empty slice.\n",
            "  return _methods._mean(a, axis=axis, dtype=dtype,\n",
            "/usr/local/lib/python3.11/dist-packages/numpy/core/_methods.py:129: RuntimeWarning: invalid value encountered in scalar divide\n",
            "  ret = ret.dtype.type(ret / rcount)\n"
          ]
        }
      ],
      "source": [
        "# prompt: Test for equality of variance for beauty scores between tenured and non-tenured instructors\n",
        "# Use α = 0.05\n",
        "\n",
        "import scipy.stats\n",
        "# Assuming ratings_df is already loaded as in the provided code\n",
        "\n",
        "# State the hypothesis:\n",
        "# H0: The variances of beauty scores are equal for tenured and non-tenured instructors.\n",
        "# H1: The variances of beauty scores are not equal for tenured and non-tenured instructors.\n",
        "\n",
        "# Perform Levene's test for equality of variance\n",
        "tenured_beauty = ratings_df[ratings_df['tenure'] == 1]['beauty']\n",
        "non_tenured_beauty = ratings_df[ratings_df['tenure'] == 0]['beauty']\n",
        "\n",
        "statistic, p_value = scipy.stats.levene(tenured_beauty, non_tenured_beauty)\n",
        "\n",
        "print(f\"Levene's test statistic: {statistic}\")\n",
        "print(f\"P-value: {p_value}\")\n",
        "\n",
        "alpha = 0.05\n",
        "if p_value < alpha:\n",
        "    print(\"Reject the null hypothesis. There is evidence of unequal variances in beauty scores between tenured and non-tenured instructors.\")\n",
        "else:\n",
        "    print(\"Fail to reject the null hypothesis. There is no evidence of unequal variances in beauty scores between tenured and non-tenured instructors.\")"
      ],
      "execution_count": 22
    },
    {
      "cell_type": "markdown",
      "metadata": {
        "id": "7755754a-f00d-4b66-9637-601147a6adce"
      },
      "source": [
        "Double-click **here** for the solution.\n",
        "\n",
        "<!-- The answer is below:\n",
        "### use the levene function to find the p-value and conclusion\n",
        "scipy.stats.levene(ratings_df[ratings_df['tenure'] == 'yes']['beauty'],\n",
        "                   ratings_df[ratings_df['tenure'] == 'no']['beauty'],\n",
        "                   center='mean')\n",
        "Since the p-value is greater than 0.05, we will assume equality of variance of both groups\n",
        "-->\n"
      ]
    },
    {
      "cell_type": "markdown",
      "metadata": {
        "id": "026e2d82-17b6-4eaf-94cb-ecae0119bf92"
      },
      "source": [
        "### Question 4: Using the teachers rating data set, is there an association between visible minorities and tenure?\n",
        "* Use α = 0.05\n"
      ]
    },
    {
      "cell_type": "code",
      "metadata": {
        "colab": {
          "base_uri": "https://localhost:8080/"
        },
        "id": "68365583-12dd-45fc-a098-ee033b0efe3b",
        "outputId": "fcee0c62-6380-4121-c5a3-f2bfa5761c85"
      },
      "outputs": [
        {
          "output_type": "stream",
          "name": "stdout",
          "text": [
            "tenure    no  yes\n",
            "minority         \n",
            "no        92  307\n",
            "yes       10   54\n",
            "Chi-square statistic: 1.3675127484429763\n",
            "P-value: 0.24223968800237178\n",
            "Degrees of freedom: 1\n",
            "\n",
            "Conclusion at α = 0.05:\n",
            "Fail to reject the null hypothesis. There is no statistically significant association between visible minority status and tenure.\n"
          ]
        }
      ],
      "source": [
        "# prompt: Using the teachers rating data set, is there an association between visible minorities and tenure?\n",
        "# Use α = 0.05\n",
        "\n",
        "# Create the contingency table\n",
        "cont_table = pd.crosstab(ratings_df['minority'], ratings_df['tenure'])\n",
        "print(cont_table)\n",
        "\n",
        "# Perform the Chi-square test\n",
        "chi2, p_value, dof, expected = scipy.stats.chi2_contingency(cont_table)\n",
        "\n",
        "print(f\"Chi-square statistic: {chi2}\")\n",
        "print(f\"P-value: {p_value}\")\n",
        "print(f\"Degrees of freedom: {dof}\")\n",
        "\n",
        "alpha = 0.05\n",
        "\n",
        "print(f\"\\nConclusion at α = {alpha}:\")\n",
        "if p_value < alpha:\n",
        "    print(\"Reject the null hypothesis. There is a statistically significant association between visible minority status and tenure.\")\n",
        "else:\n",
        "    print(\"Fail to reject the null hypothesis. There is no statistically significant association between visible minority status and tenure.\")"
      ],
      "execution_count": 24
    },
    {
      "cell_type": "markdown",
      "metadata": {
        "id": "e6a511d2-1747-47e1-8a56-6331f7c8075d"
      },
      "source": [
        "Double-click **here** for a hint.\n",
        "\n",
        "<!-- The hint is below:\n",
        "##State you hypothesis and Create a cross-tab:\n",
        "Null Hypothesis: There is no association between visible minorities and tenure\n",
        "Alternative Hypothesis: There is an association between visible minorities and tenure\n",
        "\n",
        "cont_table  = pd.crosstab(ratings_df['vismin'], ratings_df['tenure'])\n",
        "-->\n"
      ]
    },
    {
      "cell_type": "markdown",
      "metadata": {
        "id": "f8f74a9d-7ee8-4acc-9f56-ab65ee9e33e3"
      },
      "source": [
        "Double-click **here** for the solution.\n",
        "\n",
        "<!-- The answer is below:\n",
        "## run the chi2_contingency() on the contigency table\n",
        "scipy.stats.chi2_contingency(cont_table, correction = True)\n",
        "Since the p-value is greater than 0.05, we fail to reject null hypothesis as there is no evidence of an association between visible minorities and tenure\n",
        "-->\n"
      ]
    },
    {
      "cell_type": "markdown",
      "metadata": {
        "id": "b4d08ee6-2228-4ef9-8b04-e0cab2b3ac22"
      },
      "source": [
        "## Authors\n"
      ]
    },
    {
      "cell_type": "markdown",
      "metadata": {
        "id": "c5ad4954-4c4f-4ac6-b827-a1a168084aeb"
      },
      "source": [
        "[Aije Egwaikhide](https://www.linkedin.com/in/aije-egwaikhide/) is a Data Scientist at IBM who holds a degree in Economics and Statistics from the University of Manitoba and a Post-grad in Business Analytics from St. Lawrence College, Kingston. She is a current employee of IBM where she started as a Junior Data Scientist at the Global Business Services (GBS) in 2018. Her main role was making meaning out of data for their Oil and Gas clients through basic statistics and advanced Machine Learning algorithms. The highlight of her time in GBS was creating a customized end-to-end Machine learning and Statistics solution on optimizing operations in the Oil and Gas wells. She moved to the Cognitive Systems Group as a Senior Data Scientist where she will be providing the team with actionable insights using Data Science techniques and further improve processes through building machine learning solutions. She recently joined the IBM Developer Skills Network group where she brings her real-world experience to the courses she creates.\n"
      ]
    },
    {
      "cell_type": "markdown",
      "metadata": {
        "id": "a19ad01f-747c-4e2a-9cac-7db93f47f2d4"
      },
      "source": [
        "## Change Log\n"
      ]
    },
    {
      "cell_type": "markdown",
      "metadata": {
        "id": "df9fef61-57c1-4283-9e3c-a7ca914362e1"
      },
      "source": [
        "|  Date (YYYY-MM-DD) |  Version | Changed By  |  Change Description |\n",
        "|---|---|---|---|\n",
        "| 2020-08-14  | 0.1  | Aije Egwaikhide  |  Created the initial version of the lab |\n"
      ]
    },
    {
      "cell_type": "markdown",
      "metadata": {
        "id": "fcfc654c-91b0-45af-a8be-9e0c8dd5e7d3"
      },
      "source": [
        " Copyright &copy; 2020 IBM Corporation. This notebook and its source code are released under the terms of the [MIT License](https://cognitiveclass.ai/mit-license/).\n"
      ]
    }
  ],
  "metadata": {
    "kernelspec": {
      "display_name": "Python",
      "language": "python",
      "name": "conda-env-python-py"
    },
    "language_info": {
      "name": "python",
      "version": "3.7.12",
      "mimetype": "text/x-python",
      "codemirror_mode": {
        "name": "ipython",
        "version": 3
      },
      "pygments_lexer": "ipython3",
      "nbconvert_exporter": "python",
      "file_extension": ".py"
    },
    "prev_pub_hash": "61d32d653aefd6574934308ccde0d94144fe40ef5ff6baf3ee6858d67da40c90",
    "colab": {
      "provenance": [],
      "toc_visible": true
    }
  },
  "nbformat": 4,
  "nbformat_minor": 0
}