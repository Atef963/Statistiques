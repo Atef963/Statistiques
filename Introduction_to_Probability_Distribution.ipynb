{
  "cells": [
    {
      "cell_type": "markdown",
      "metadata": {
        "id": "RKdy7Fg0Hv_x"
      },
      "source": [
        "<p style=\"text-align:center\">\n",
        "    <a href=\"https://skills.network/?utm_medium=Exinfluencer&utm_source=Exinfluencer&utm_content=000026UJ&utm_term=10006555&utm_id=NA-SkillsNetwork-Channel-SkillsNetworkCoursesIBMDeveloperSkillsNetworkST0151ENSkillsNetwork956-2022-01-01\" target=\"_blank\">\n",
        "    <img src=\"https://cf-courses-data.s3.us.cloud-object-storage.appdomain.cloud/assets/logos/SN_web_lightmode.png\" width=\"200\" alt=\"Skills Network Logo\"  />\n",
        "    </a>\n",
        "</p>\n"
      ]
    },
    {
      "cell_type": "markdown",
      "metadata": {
        "id": "NSGxyozaHv_2"
      },
      "source": [
        "# **Introduction to Probability Distribution**\n"
      ]
    },
    {
      "cell_type": "markdown",
      "metadata": {
        "id": "ww9p2GpMHv_3"
      },
      "source": [
        "Estimated time needed: **30** minutes\n"
      ]
    },
    {
      "cell_type": "markdown",
      "metadata": {
        "id": "y7IL4mRMHv_3"
      },
      "source": [
        "In this lab, you will familiarize yourself with the normal probability distributions and work on some exercises\n"
      ]
    },
    {
      "cell_type": "markdown",
      "metadata": {
        "id": "zjpRMalNHv_3"
      },
      "source": [
        "## Objectives\n"
      ]
    },
    {
      "cell_type": "markdown",
      "metadata": {
        "id": "es7Q9xJbHv_4"
      },
      "source": [
        "* Import Libraries\n",
        "* Introduction to Probability Distributions\n",
        "    * Normal Distributions\n",
        "* Lab Exercises\n"
      ]
    },
    {
      "cell_type": "markdown",
      "metadata": {
        "id": "7n-Mr9VhHv_4"
      },
      "source": [
        "----\n"
      ]
    },
    {
      "cell_type": "markdown",
      "metadata": {
        "id": "wY5uBbk9Hv_4"
      },
      "source": [
        "## Import Libraries\n"
      ]
    },
    {
      "cell_type": "markdown",
      "metadata": {
        "id": "Q3oRTUIIHv_5"
      },
      "source": [
        "All Libraries required for this lab are listed below. The libraries pre-installed on Skills Network Labs are commented. If you run this notebook in a different environment, e.g. your desktop, you may need to uncomment and install certain libraries.\n"
      ]
    },
    {
      "cell_type": "code",
      "execution_count": null,
      "metadata": {
        "id": "6XcgiXg_Hv_5"
      },
      "outputs": [],
      "source": [
        "#install specific version of libraries used in lab\n",
        "#! mamba install pandas==1.3.3\n",
        "#! mamba install numpy=1.21.2\n",
        "#! mamba install scipy=1.7.1-y\n",
        "#!  mamba install matplotlib=3.4.3-y\n",
        "#!  mamba install statsmodels=0.12.0-y\n"
      ]
    },
    {
      "cell_type": "markdown",
      "metadata": {
        "id": "TPY7wPNeHv_6"
      },
      "source": [
        "Import the libraries we need for the lab\n"
      ]
    },
    {
      "cell_type": "code",
      "execution_count": 1,
      "metadata": {
        "id": "nTSw2mwzHv_7"
      },
      "outputs": [],
      "source": [
        "import numpy as np\n",
        "import pandas as pd\n",
        "import matplotlib.pyplot as plt\n",
        "import scipy.stats\n",
        "from math import sqrt"
      ]
    },
    {
      "cell_type": "markdown",
      "metadata": {
        "id": "nQ_SchiFHv_7"
      },
      "source": [
        "Read in the csv file from the url using the request library\n"
      ]
    },
    {
      "cell_type": "code",
      "execution_count": 2,
      "metadata": {
        "id": "OXahYYAGHv_7"
      },
      "outputs": [],
      "source": [
        "ratings_url = 'https://cf-courses-data.s3.us.cloud-object-storage.appdomain.cloud/IBMDeveloperSkillsNetwork-ST0151EN-SkillsNetwork/labs/teachingratings.csv'\n",
        "ratings_df = pd.read_csv(ratings_url)"
      ]
    },
    {
      "cell_type": "code",
      "source": [
        "# Save the DataFrame to a CSV file in the Colab environment\n",
        "#ratings_df.to_csv('teachingratings.csv', index=False)\n",
        "\n",
        "# Download the file\n",
        "#from google.colab import files\n",
        "#files.download('teachingratings.csv')"
      ],
      "metadata": {
        "id": "ACXUxdW4JdBg"
      },
      "execution_count": 3,
      "outputs": []
    },
    {
      "cell_type": "markdown",
      "metadata": {
        "id": "SfJebYgzHv_8"
      },
      "source": [
        "## Introduction to Probability Distribution\n"
      ]
    },
    {
      "cell_type": "markdown",
      "metadata": {
        "id": "WgDwyOduHv_8"
      },
      "source": [
        "In this section, you will learn how to create the plot distributions using the scipy library in python\n"
      ]
    },
    {
      "cell_type": "markdown",
      "metadata": {
        "id": "S8edJ7HTHv_8"
      },
      "source": [
        "### Normal Distribution\n"
      ]
    },
    {
      "cell_type": "markdown",
      "metadata": {
        "id": "pKc-Geb3Hv_8"
      },
      "source": [
        "A normal distribution is a bell-shaped density curve described by its mean μ and standard deviation σ. The curve is symmetrical and centered around it's mean. A normal distribution curve looks like this:\n",
        "\n",
        "À l’aide de l’ensemble de données d’évaluation des enseignants, quelle est la probabilité d’obtenir une note d’évaluation supérieure à 3,3 ?\n"
      ]
    },
    {
      "cell_type": "markdown",
      "metadata": {
        "id": "XgOafVijHv_9"
      },
      "source": [
        "![image.png](attachment:image.png)\n"
      ]
    },
    {
      "cell_type": "markdown",
      "metadata": {
        "id": "KeZBSJrhHv_9"
      },
      "source": [
        "We can visualize the curve. Import norm from scipy.stat and plot graph with matplotlib\n"
      ]
    },
    {
      "cell_type": "code",
      "execution_count": 4,
      "metadata": {
        "colab": {
          "base_uri": "https://localhost:8080/",
          "height": 430
        },
        "id": "Z5RSlWfmHv_9",
        "outputId": "6d370a95-db43-4d4e-c45c-028846ea6c3d"
      },
      "outputs": [
        {
          "output_type": "display_data",
          "data": {
            "text/plain": [
              "<Figure size 640x480 with 1 Axes>"
            ],
            "image/png": "[encoded data removed]"
          },
          "metadata": {}
        }
      ],
      "source": [
        "from scipy.stats import norm\n",
        "\n",
        "# Plot between -4 and 4 with 0.1 steps.\n",
        "x_axis = np.arange(-4, 4, 0.1)\n",
        "# Mean = 0, SD = 1.\n",
        "plt.plot(x_axis, norm.pdf(x_axis, 0, 1))\n",
        "plt.show()"
      ]
    },
    {
      "cell_type": "markdown",
      "metadata": {
        "id": "RIo6UM60Hv_9"
      },
      "source": [
        "## Lab Exercises\n"
      ]
    },
    {
      "cell_type": "markdown",
      "metadata": {
        "id": "6DICQLG6Hv_9"
      },
      "source": [
        "### Using the teachers' rating dataset, what is the probability of receiving an evaluation score of greater than 4.5\n"
      ]
    },
    {
      "cell_type": "markdown",
      "metadata": {
        "id": "qM6WtPr6Hv_-"
      },
      "source": [
        "Find the mean and standard deviation of teachers' evaluation scores\n"
      ]
    },
    {
      "cell_type": "code",
      "execution_count": 5,
      "metadata": {
        "colab": {
          "base_uri": "https://localhost:8080/"
        },
        "id": "rVtGFB5ZHv_-",
        "outputId": "9629d9c4-ce06-43b5-e268-92e3b47b6b00"
      },
      "outputs": [
        {
          "output_type": "stream",
          "name": "stdout",
          "text": [
            "3.998 0.555\n"
          ]
        }
      ],
      "source": [
        "eval_mean = round(ratings_df['eval'].mean(), 3)\n",
        "eval_sd = round(ratings_df['eval'].std(), 3)\n",
        "print(eval_mean, eval_sd)"
      ]
    },
    {
      "cell_type": "markdown",
      "metadata": {
        "id": "8AWPNvpJHv__"
      },
      "source": [
        "Use the scipy.stats module. Because python only looks to the left i.e. less than, we do remove the probability from 1 to get the other side of the tail\n"
      ]
    },
    {
      "cell_type": "code",
      "execution_count": 6,
      "metadata": {
        "scrolled": true,
        "colab": {
          "base_uri": "https://localhost:8080/"
        },
        "id": "nAMPDWQ8HwAA",
        "outputId": "6ca96ead-8d9d-4784-9ecd-66e5d0c95ff6"
      },
      "outputs": [
        {
          "output_type": "stream",
          "name": "stdout",
          "text": [
            "0.1828639734596742\n"
          ]
        }
      ],
      "source": [
        "prob0 = scipy.stats.norm.cdf((4.5 - eval_mean)/eval_sd)\n",
        "print(1 - prob0)"
      ]
    },
    {
      "cell_type": "markdown",
      "metadata": {
        "id": "xj2bCdExHwAA"
      },
      "source": [
        "### Using the teachers' rating dataset, what is the probability of receiving an evaluation score greater than 3.5 and less than 4.2\n"
      ]
    },
    {
      "cell_type": "markdown",
      "metadata": {
        "id": "h7FsV7ifHwAA"
      },
      "source": [
        "First we find the probability of getting evaluation scores less than 3.5 using the <code>norm.cdf</code> function\n"
      ]
    },
    {
      "cell_type": "code",
      "execution_count": 7,
      "metadata": {
        "colab": {
          "base_uri": "https://localhost:8080/"
        },
        "id": "T2f9ynduHwAA",
        "outputId": "713c9911-9d3c-4353-cc75-1cd2717dd483"
      },
      "outputs": [
        {
          "output_type": "stream",
          "name": "stdout",
          "text": [
            "0.1847801491443654\n"
          ]
        }
      ],
      "source": [
        "x1 = 3.5\n",
        "prob1 = scipy.stats.norm.cdf((x1 - eval_mean)/eval_sd)\n",
        "print(prob1)"
      ]
    },
    {
      "cell_type": "markdown",
      "metadata": {
        "id": "E-7fakQ6HwAA"
      },
      "source": [
        "Then for less than 4.2\n"
      ]
    },
    {
      "cell_type": "code",
      "execution_count": 8,
      "metadata": {
        "colab": {
          "base_uri": "https://localhost:8080/"
        },
        "id": "bmXywoYbHwAB",
        "outputId": "ad374e64-712e-444c-c52f-b19fdb4fdb75"
      },
      "outputs": [
        {
          "output_type": "stream",
          "name": "stdout",
          "text": [
            "0.642057540461896\n"
          ]
        }
      ],
      "source": [
        "x2 = 4.2\n",
        "prob2 = scipy.stats.norm.cdf((x2 - eval_mean)/eval_sd)\n",
        "print(prob2)"
      ]
    },
    {
      "cell_type": "markdown",
      "metadata": {
        "id": "56rOTKtwHwAB"
      },
      "source": [
        "The probability of a teacher receiving an evaluation score that is between 3.5 and 4.2 is:\n"
      ]
    },
    {
      "cell_type": "code",
      "execution_count": 9,
      "metadata": {
        "colab": {
          "base_uri": "https://localhost:8080/"
        },
        "id": "t_p5ICQqHwAC",
        "outputId": "3f6091c7-cf05-4fff-9138-417fea4a7de6"
      },
      "outputs": [
        {
          "output_type": "execute_result",
          "data": {
            "text/plain": [
              "45.7"
            ]
          },
          "metadata": {},
          "execution_count": 9
        }
      ],
      "source": [
        "round((prob2 - prob1)*100, 1)"
      ]
    },
    {
      "cell_type": "markdown",
      "metadata": {
        "id": "ZKaaaQhNHwAD"
      },
      "source": [
        "### Using the two-tailed test from a normal distribution:\n",
        "* A professional  basketball  team wants to compare its performance with  that of players  in a regional league.\n",
        "* The pros are known to have a historic mean of 12 points  per game with  a standard  deviation  of 5.5.\n",
        "* A group  of 36 regional players recorded on average 10.7 points  per game.\n",
        "* The pro coach would like to know whether  his professional  team scores on average are different from that of the regional players.\n"
      ]
    },
    {
      "cell_type": "markdown",
      "metadata": {
        "id": "RvQytIcXHwAE"
      },
      "source": [
        "State the null hypothesis\n",
        "* $H_0$: $x = µ_1$ (\"The mean point of the regional players is not different from the historic mean\")\n",
        "* $H_1$: $x ≠ µ_1$ (\"The mean point of the regional players is different from the historic mean\")\n"
      ]
    },
    {
      "cell_type": "markdown",
      "metadata": {
        "id": "qD0v5u3dHwAE"
      },
      "source": [
        "When the population standard deviation is given and we are asked to deal with a sub-sample, the size (n) of the sub-sample is used in the formula:\n",
        "![image.png](attachment:image.png)\n"
      ]
    },
    {
      "cell_type": "code",
      "execution_count": 10,
      "metadata": {
        "colab": {
          "base_uri": "https://localhost:8080/"
        },
        "id": "vtqrebMEHwAE",
        "outputId": "776cfd9c-1f65-4d68-d27b-73529afc7676"
      },
      "outputs": [
        {
          "output_type": "execute_result",
          "data": {
            "text/plain": [
              "0.156"
            ]
          },
          "metadata": {},
          "execution_count": 10
        }
      ],
      "source": [
        "## because it is a two-tailed test we multiply by 2\n",
        "2*round(scipy.stats.norm.cdf((10.7 - 12)/(5.5/sqrt(36))), 3)"
      ]
    },
    {
      "cell_type": "markdown",
      "metadata": {
        "id": "3k4s_fJVHwAF"
      },
      "source": [
        "**Conclusion:** Because the p-value is greater than 0.05, we fail  to reject the null hypothesis as there is no sufficient evidence to prove that the mean point of the regional players is different from the historic mean\n"
      ]
    },
    {
      "cell_type": "markdown",
      "metadata": {
        "id": "wfYUZ0DoHwAF"
      },
      "source": [
        "## Practice Questions\n"
      ]
    },
    {
      "cell_type": "markdown",
      "metadata": {
        "id": "XU3gGns_HwAG"
      },
      "source": [
        "### Question 1: Using the teachers' rating dataset, what is the probability of receiving an evaluation score greater than 3.3?\n",
        "\n",
        "À l’aide de l’ensemble de données d’évaluation des enseignants, quelle est la probabilité d’obtenir une note d’évaluation supérieure à 3,3 ?\n"
      ]
    },
    {
      "cell_type": "code",
      "execution_count": 11,
      "metadata": {
        "colab": {
          "base_uri": "https://localhost:8080/"
        },
        "id": "u2D3Tk0dHwAG",
        "outputId": "4f9ba135-d406-4402-f656-d1b4971b2f2f"
      },
      "outputs": [
        {
          "output_type": "stream",
          "name": "stdout",
          "text": [
            "0.8957422041794154\n"
          ]
        }
      ],
      "source": [
        "# prompt: Using the teachers' rating dataset, what is the probability of receiving an evaluation score greater than 3.3?\n",
        "\n",
        "# Calculate the probability of receiving an evaluation score greater than 3.3\n",
        "x3 = 3.3\n",
        "prob3 = 1- scipy.stats.norm.cdf((x3 - eval_mean) / eval_sd)\n",
        "print(prob3)\n",
        "\n"
      ]
    },
    {
      "cell_type": "markdown",
      "metadata": {
        "id": "p99HBwIzHwAG"
      },
      "source": [
        "Double-click **here** for the solution.\n",
        "\n",
        "<!-- The answer is below:\n",
        "##calculate the probability less than 3.3\n",
        "prob_less_than = scipy.stats.norm.cdf((3.3 - eval_mean)/eval_sd)\n",
        "##then remove the probability from 1 to get the area to the right of 3.3\n",
        "print(1 - prob_less_than)\n",
        "-->\n"
      ]
    },
    {
      "cell_type": "markdown",
      "metadata": {
        "id": "WNCR9OHGHwAG"
      },
      "source": [
        "### Question 2: Using the teachers' rating dataset, what is the probability of receiving an evaluation score between 2 and 3?\n",
        "\n",
        "السؤال 2: باستخدام مجموعة بيانات تقييم المعلمين ، ما هو احتمال الحصول على درجة تقييم بين 2 و 3\n"
      ]
    },
    {
      "cell_type": "code",
      "execution_count": 12,
      "metadata": {
        "colab": {
          "base_uri": "https://localhost:8080/"
        },
        "id": "TmeJNlYQHwAH",
        "outputId": "09cdb947-9989-4bc2-8892-78512e206355"
      },
      "outputs": [
        {
          "output_type": "execute_result",
          "data": {
            "text/plain": [
              "0.03591369391246606"
            ]
          },
          "metadata": {},
          "execution_count": 12
        }
      ],
      "source": [
        "# prompt: Question 2: Using the teachers' rating dataset, what is the probability of receiving an evaluation score between 2 and 3\n",
        "\n",
        "# Calculate the probability of receiving an evaluation score between 2 and 3\n",
        "prob_less_than_3 = scipy.stats.norm.cdf((3 - eval_mean) / eval_sd)\n",
        "prob_less_than_2 = scipy.stats.norm.cdf((2 - eval_mean) / eval_sd)\n",
        "probability = prob_less_than_3 - prob_less_than_2\n",
        "probability"
      ]
    },
    {
      "cell_type": "markdown",
      "metadata": {
        "id": "CjvvL9VSHwAH"
      },
      "source": [
        "Double-click **here** for the solution.\n",
        "\n",
        "<!-- The answer is below:\n",
        "## find the probablity of reciving a score of less than 2\n",
        "prob_less_than_2 = scipy.stats.norm.cdf((x1 - eval_mean)/eval_sd)\n",
        "print(prob_less_than_2)\n",
        "\n",
        "## find the probablity of reciving a score of less than 3\n",
        "prob_less_than_3 = scipy.stats.norm.cdf((x2 - eval_mean)/eval_sd)\n",
        "print(prob_less_than_3)\n",
        "\n",
        "## remove both probabilities from each other\n",
        "round((prob_less_than_3 - prob_less_than_2)*100, 1)\n",
        "-->\n"
      ]
    },
    {
      "cell_type": "markdown",
      "metadata": {
        "id": "RTq82j_dHwAH"
      },
      "source": [
        "### Question 3: To test the hypothesis that sleeping for at least 8 hours makes one smarter, 12 people who have slept for at least 8 hours every day  for the past one year  have their IQ tested.\n",
        "* Here are the results: 116, 111, 101, 120, 99, 94, 106, 115, 107, 101, 110, 92\n",
        "* Test using the following hypotheses: H0: μ = 100 or Ha: μ > 100\n",
        "\n",
        "السؤال 3: لاختبار الفرضية القائلة بأن النوم لمدة 8 ساعات على الأقل يجعل المرء أكثر ذكاء ، يخضع 12 شخصا ناموا لمدة 8 ساعات على الأقل كل يوم خلال العام الماضي لاختبار معدل ذكائهم.\n",
        "\n",
        "\n",
        "ها هي النتائج: 116 ، 111 ، 101 ، 120 ، 99 ، 94 ، 106 ، 115 ، 107 ، 101 ، 110 ، 92\n",
        "اختبر باستخدام الفرضيات التالية: H0: μ = 100 أو هكتار: μ > 100\n"
      ]
    },
    {
      "cell_type": "code",
      "execution_count": 13,
      "metadata": {
        "colab": {
          "base_uri": "https://localhost:8080/"
        },
        "id": "veQFUv6KHwAI",
        "outputId": "81591789-5b70-482b-b643-9c7fd262a922"
      },
      "outputs": [
        {
          "output_type": "stream",
          "name": "stdout",
          "text": [
            "T-statistic: 2.3533936216582085\n",
            "P-value: 0.019128732387258894\n",
            "Reject the null hypothesis. There is sufficient evidence to support the claim that sleeping for at least 8 hours makes one smarter.\n"
          ]
        }
      ],
      "source": [
        "# prompt: Question 3: To test the hypothesis that sleeping for at least 8 hours makes one smarter, 12 people who have slept for at least 8 hours every day for the past one year have their IQ tested.\n",
        "# Here are the results: 116, 111, 101, 120, 99, 94, 106, 115, 107, 101, 110, 92\n",
        "# Test using the following hypotheses: H0: μ = 100 or Ha: μ > 100\n",
        "\n",
        "import numpy as np\n",
        "from scipy.stats import ttest_1samp\n",
        "\n",
        "# IQ scores of the 12 people\n",
        "iq_scores = [116, 111, 101, 120, 99, 94, 106, 115, 107, 101, 110, 92]\n",
        "\n",
        "# Perform one-sample t-test\n",
        "t_statistic, p_value = ttest_1samp(iq_scores, 100, alternative='greater')\n",
        "\n",
        "print(f\"T-statistic: {t_statistic}\")\n",
        "print(f\"P-value: {p_value}\")\n",
        "\n",
        "# Interpret the results\n",
        "alpha = 0.05  # Significance level\n",
        "if p_value < alpha:\n",
        "    print(\"Reject the null hypothesis. There is sufficient evidence to support the claim that sleeping for at least 8 hours makes one smarter.\")\n",
        "else:\n",
        "    print(\"Fail to reject the null hypothesis. There is not sufficient evidence to support the claim that sleeping for at least 8 hours makes one smarter.\")"
      ]
    },
    {
      "cell_type": "markdown",
      "metadata": {
        "id": "lkf9NnYXHwAI"
      },
      "source": [
        "Double-click **here** for a hint.\n",
        "\n",
        "<!-- The hint is below:\n",
        "### find the mean and standard deviation of the 12 IQs\n",
        "iqs = [116, 111, 101, 120, 99, 94, 106, 115, 107, 101, 110, 92]\n",
        "sample_size = len(iqs)\n",
        "degree_freedom = sample_size - 1\n",
        "iq_mean = sum(iqs) / sample_size\n",
        "mean_diff = [(iq - iq_mean) ** 2 for iq in iqs]\n",
        "iq_std = sqrt(sum(mean_diff) / degree_freedom)\n",
        "variance = iq_std ** 2\n",
        "-->\n"
      ]
    },
    {
      "cell_type": "markdown",
      "metadata": {
        "id": "s2hTzE9dHwAI"
      },
      "source": [
        "Double-click **here** for the solution.\n",
        "\n",
        "<!-- The answer is below:\n",
        "### remember to remove from 1 because we want the value for when IQs are greater than 100\n",
        "iqs = [116, 111, 101, 120, 99, 94, 106, 115, 107, 101, 110, 92]\n",
        "sample_size = len(iqs)\n",
        "degree_freedom = sample_size - 1\n",
        "iq_mean = sum(iqs) / sample_size\n",
        "mean_diff = [(iq - iq_mean) ** 2 for iq in iqs]\n",
        "iq_std = sqrt(sum(mean_diff) / degree_freedom)\n",
        "variance = iq_std ** 2\n",
        "print(f\"IQ mean is {iq_mean}, sd is {iq_std}, variance is {variance}\")\n",
        "round(1-scipy.stats.norm.cdf((iq_mean - 100)/(iq_std/sqrt(12))), 3)\n",
        "-->\n"
      ]
    },
    {
      "cell_type": "markdown",
      "metadata": {
        "id": "MTPCYafUHwAI"
      },
      "source": [
        "## Authors\n"
      ]
    },
    {
      "cell_type": "markdown",
      "metadata": {
        "id": "m0nIluqRHwAJ"
      },
      "source": [
        "[Aije Egwaikhide](https://www.linkedin.com/in/aije-egwaikhide/?utm_medium=Exinfluencer&utm_source=Exinfluencer&utm_content=000026UJ&utm_term=10006555&utm_id=NA-SkillsNetwork-Channel-SkillsNetworkCoursesIBMDeveloperSkillsNetworkST0151ENSkillsNetwork956-2022-01-01) is a Data Scientist at IBM who holds a degree in Economics and Statistics from the University of Manitoba and a Post-grad in Business Analytics from St. Lawrence College, Kingston. She is a current employee of IBM where she started as a Junior Data Scientist at the Global Business Services (GBS) in 2018. Her main role was making meaning out of data for their Oil and Gas clients through basic statistics and advanced Machine Learning algorithms. The highlight of her time in GBS was creating a customized end-to-end Machine learning and Statistics solution on optimizing operations in the Oil and Gas wells. She moved to the Cognitive Systems Group as a Senior Data Scientist where she will be providing the team with actionable insights using Data Science techniques and further improve processes through building machine learning solutions. She recently joined the IBM Developer Skills Network group where she brings her real-world experience to the courses she creates.\n"
      ]
    },
    {
      "cell_type": "markdown",
      "metadata": {
        "id": "sUom3au5HwAJ"
      },
      "source": [
        "## Change Log\n"
      ]
    },
    {
      "cell_type": "markdown",
      "metadata": {
        "id": "cz23JR33HwAJ"
      },
      "source": [
        "|  Date (YYYY-MM-DD) |  Version | Changed By  |  Change Description |\n",
        "|---|---|---|---|\n",
        "| 2020-08-14  | 0.1  | Aije Egwaikhide  |  Created the initial version of the lab |\n",
        "| 2022-05-11  | 0.2  | Lakshmi Holla  |  Updated markdown solution  |\n"
      ]
    },
    {
      "cell_type": "markdown",
      "metadata": {
        "id": "BFYI5ZahHwAK"
      },
      "source": [
        " Copyright &copy; 2020 IBM Corporation. This notebook and its source code are released under the terms of the [MIT License](https://cognitiveclass.ai/mit-license/?utm_medium=Exinfluencer&utm_source=Exinfluencer&utm_content=000026UJ&utm_term=10006555&utm_id=NA-SkillsNetwork-Channel-SkillsNetworkCoursesIBMDeveloperSkillsNetworkST0151ENSkillsNetwork956-2022-01-01).\n"
      ]
    }
  ],
  "metadata": {
    "kernelspec": {
      "display_name": "Python",
      "language": "python",
      "name": "conda-env-python-py"
    },
    "language_info": {
      "name": ""
    },
    "colab": {
      "provenance": [],
      "toc_visible": true
    }
  },
  "nbformat": 4,
  "nbformat_minor": 0
}